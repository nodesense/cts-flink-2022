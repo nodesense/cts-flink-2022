{
 "cells": [
  {
   "cell_type": "code",
   "execution_count": 1,
   "id": "9500b6b5-e0b8-44df-aa8f-bca1713d671f",
   "metadata": {},
   "outputs": [],
   "source": [
    "from pyflink.table import EnvironmentSettings, TableEnvironment\n",
    "# Shift + Enter to run the cell"
   ]
  },
  {
   "cell_type": "code",
   "execution_count": 2,
   "id": "6a937d64-b84a-4921-baad-a788334eebc7",
   "metadata": {},
   "outputs": [],
   "source": [
    "# create environment for batch mode \n",
    "env = EnvironmentSettings.in_batch_mode()\n",
    "\n",
    "#   create table environment\n",
    "table_env = TableEnvironment.create(env)"
   ]
  },
  {
   "cell_type": "code",
   "execution_count": 3,
   "id": "ac95fd65-f4e1-4fad-9ba4-73563d5e2218",
   "metadata": {},
   "outputs": [],
   "source": [
    "# hardcoded data\n",
    "# [] - python type list, mutable - change\n",
    "# () = type  tuple, immutable - cannot change\n",
    "data = [ (\"Joe\", 28), (\"Mary\", 34), (\"Venkat\", 40) ] # 3 records\n",
    "columns = [\"name\", \"age\"]\n",
    "# create virtual table or view\n",
    "employee_table = table_env.from_elements(data, columns)"
   ]
  },
  {
   "cell_type": "code",
   "execution_count": 4,
   "id": "a16b09de-cd54-4747-8ec6-f4921862e89a",
   "metadata": {},
   "outputs": [
    {
     "name": "stdout",
     "output_type": "stream",
     "text": [
      "(\n",
      "  `name` STRING,\n",
      "  `age` BIGINT\n",
      ")\n"
     ]
    }
   ],
   "source": [
    "# flink always works with structured data means data + meta data \n",
    "# meta data = schema , columns, data types etc\n",
    "\n",
    "# flink too infer schema\n",
    "# print schema\n",
    "employee_table.print_schema()"
   ]
  },
  {
   "cell_type": "code",
   "execution_count": 5,
   "id": "5df84cbe-6631-4aa9-9596-b1cc88ea4ae2",
   "metadata": {},
   "outputs": [],
   "source": [
    "# pandas inbuilt, convert table data into pandas dataframe\n"
   ]
  },
  {
   "cell_type": "code",
   "execution_count": 6,
   "id": "f9e7ada1-6b2a-425e-8fad-cc88581d7955",
   "metadata": {},
   "outputs": [
    {
     "name": "stdout",
     "output_type": "stream",
     "text": [
      "before\n",
      "[]\n",
      "after register\n",
      "['employees2']\n"
     ]
    }
   ],
   "source": [
    "print(\"before\")\n",
    "print(table_env.list_tables())\n",
    "\n",
    "# now register virtual table as table for flink sql\n",
    "# employees2 shall be created in default cataglog, default database\n",
    "table_env.register_table(\"employees2\", employee_table)\n",
    "\n",
    "print (\"after register\")\n",
    "print(table_env.list_tables())\n"
   ]
  },
  {
   "cell_type": "code",
   "execution_count": 7,
   "id": "0b0fbe61-d8a8-49d2-af17-730b5d9f98f6",
   "metadata": {},
   "outputs": [
    {
     "name": "stdout",
     "output_type": "stream",
     "text": [
      "(\n",
      "  `name` STRING,\n",
      "  `age` BIGINT\n",
      ")\n"
     ]
    }
   ],
   "source": [
    "# now we can run queries in SQL syntax\n",
    "# virtual table2\n",
    "table2 = table_env.sql_query(\"SELECT name,age from employees2\")\n",
    "table2.print_schema()"
   ]
  },
  {
   "cell_type": "code",
   "execution_count": 9,
   "id": "2e2ed990-6179-4bcd-a1d6-88f6a55f1392",
   "metadata": {},
   "outputs": [
    {
     "name": "stdout",
     "output_type": "stream",
     "text": [
      "(\n",
      "  `name` STRING,\n",
      "  `age` BIGINT\n",
      ")\n"
     ]
    },
    {
     "data": {
      "text/html": [
       "<div>\n",
       "<style scoped>\n",
       "    .dataframe tbody tr th:only-of-type {\n",
       "        vertical-align: middle;\n",
       "    }\n",
       "\n",
       "    .dataframe tbody tr th {\n",
       "        vertical-align: top;\n",
       "    }\n",
       "\n",
       "    .dataframe thead th {\n",
       "        text-align: right;\n",
       "    }\n",
       "</style>\n",
       "<table border=\"1\" class=\"dataframe\">\n",
       "  <thead>\n",
       "    <tr style=\"text-align: right;\">\n",
       "      <th></th>\n",
       "      <th>name</th>\n",
       "      <th>age</th>\n",
       "    </tr>\n",
       "  </thead>\n",
       "  <tbody>\n",
       "    <tr>\n",
       "      <th>0</th>\n",
       "      <td>Joe</td>\n",
       "      <td>28</td>\n",
       "    </tr>\n",
       "  </tbody>\n",
       "</table>\n",
       "</div>"
      ],
      "text/plain": [
       "  name  age\n",
       "0  Joe   28"
      ]
     },
     "execution_count": 9,
     "metadata": {},
     "output_type": "execute_result"
    }
   ],
   "source": [
    "# SQL API works with temp view, temp table, table registered in table environment\n",
    "table3 = table_env.sql_query(\"SELECT name,age FROM employees2 WHERE age <= 30\")\n",
    "table3.print_schema()\n",
    "table3.to_pandas() # last cell expression printed"
   ]
  },
  {
   "cell_type": "code",
   "execution_count": 17,
   "id": "922f9316-0c1a-4389-978c-06fa13007c62",
   "metadata": {},
   "outputs": [
    {
     "name": "stdout",
     "output_type": "stream",
     "text": [
      "== Abstract Syntax Tree ==\n",
      "LogicalProject(name=[$0], age=[$1])\n",
      "+- LogicalFilter(condition=[<=($1, 30)])\n",
      "   +- LogicalTableScan(table=[[default_catalog, default_database, Unregistered_TableSource_901622554, source: [PythonInputFormatTableSource(name, age)]]])\n",
      "\n",
      "== Optimized Physical Plan ==\n",
      "Calc(select=[name, age], where=[<=(age, 30)])\n",
      "+- LegacyTableSourceScan(table=[[default_catalog, default_database, Unregistered_TableSource_901622554, source: [PythonInputFormatTableSource(name, age)]]], fields=[name, age])\n",
      "\n",
      "== Optimized Execution Plan ==\n",
      "Calc(select=[name, age], where=[(age <= 30)])\n",
      "+- LegacyTableSourceScan(table=[[default_catalog, default_database, Unregistered_TableSource_901622554, source: [PythonInputFormatTableSource(name, age)]]], fields=[name, age])\n",
      "\n"
     ]
    }
   ],
   "source": [
    "# SQL API also optimized\n",
    "print(table3.explain())"
   ]
  },
  {
   "cell_type": "code",
   "execution_count": 11,
   "id": "fd11d2c7-9889-4b38-bc23-43bd1dbde65c",
   "metadata": {},
   "outputs": [
    {
     "name": "stdout",
     "output_type": "stream",
     "text": [
      "+--------------------------------+----------------------+\n",
      "|                           name |                  age |\n",
      "+--------------------------------+----------------------+\n",
      "|                            Joe |                   28 |\n",
      "|                           Mary |                   34 |\n",
      "|                         Venkat |                   40 |\n",
      "+--------------------------------+----------------------+\n",
      "3 rows in set\n"
     ]
    },
    {
     "data": {
      "text/html": [
       "<div>\n",
       "<style scoped>\n",
       "    .dataframe tbody tr th:only-of-type {\n",
       "        vertical-align: middle;\n",
       "    }\n",
       "\n",
       "    .dataframe tbody tr th {\n",
       "        vertical-align: top;\n",
       "    }\n",
       "\n",
       "    .dataframe thead th {\n",
       "        text-align: right;\n",
       "    }\n",
       "</style>\n",
       "<table border=\"1\" class=\"dataframe\">\n",
       "  <thead>\n",
       "    <tr style=\"text-align: right;\">\n",
       "      <th></th>\n",
       "      <th>name</th>\n",
       "      <th>age</th>\n",
       "    </tr>\n",
       "  </thead>\n",
       "  <tbody>\n",
       "    <tr>\n",
       "      <th>0</th>\n",
       "      <td>Joe</td>\n",
       "      <td>28</td>\n",
       "    </tr>\n",
       "    <tr>\n",
       "      <th>1</th>\n",
       "      <td>Mary</td>\n",
       "      <td>34</td>\n",
       "    </tr>\n",
       "    <tr>\n",
       "      <th>2</th>\n",
       "      <td>Venkat</td>\n",
       "      <td>40</td>\n",
       "    </tr>\n",
       "  </tbody>\n",
       "</table>\n",
       "</div>"
      ],
      "text/plain": [
       "     name  age\n",
       "0     Joe   28\n",
       "1    Mary   34\n",
       "2  Venkat   40"
      ]
     },
     "execution_count": 11,
     "metadata": {},
     "output_type": "execute_result"
    }
   ],
   "source": [
    "# Table API using Python, typically good for unregistered tables/query results/temp views\n",
    "from pyflink.table.expressions import col\n",
    "\n",
    "# return temp view\n",
    "table4 = employee_table.select ( col(\"name\"), col(\"age\") )\n",
    "# in spark we have action methods, exeucte, to_pandas are  similar to action method\n",
    "table4.execute().print()\n",
    "table4.to_pandas()"
   ]
  },
  {
   "cell_type": "code",
   "execution_count": 12,
   "id": "638b6d15-dd43-48b9-a199-3c2371ca5f59",
   "metadata": {},
   "outputs": [
    {
     "name": "stdout",
     "output_type": "stream",
     "text": [
      "+--------------------------------+----------------------+\n",
      "|                           name |                  age |\n",
      "+--------------------------------+----------------------+\n",
      "|                            Joe |                   28 |\n",
      "+--------------------------------+----------------------+\n",
      "1 row in set\n"
     ]
    }
   ],
   "source": [
    "# Table API\n",
    "result5 = employee_table.filter ( col (\"age\") <= 30)\n",
    "result5.execute().print()"
   ]
  },
  {
   "cell_type": "code",
   "execution_count": 15,
   "id": "1b708152-3afa-43cf-bcd3-cd2a2f85ceb8",
   "metadata": {},
   "outputs": [
    {
     "name": "stdout",
     "output_type": "stream",
     "text": [
      "== Abstract Syntax Tree ==\n",
      "LogicalFilter(condition=[<=($1, 30)])\n",
      "+- LogicalTableScan(table=[[default_catalog, default_database, Unregistered_TableSource_901622554, source: [PythonInputFormatTableSource(name, age)]]])\n",
      "\n",
      "== Optimized Physical Plan ==\n",
      "Calc(select=[name, age], where=[<=(age, 30)])\n",
      "+- LegacyTableSourceScan(table=[[default_catalog, default_database, Unregistered_TableSource_901622554, source: [PythonInputFormatTableSource(name, age)]]], fields=[name, age])\n",
      "\n",
      "== Optimized Execution Plan ==\n",
      "Calc(select=[name, age], where=[(age <= 30)])\n",
      "+- LegacyTableSourceScan(table=[[default_catalog, default_database, Unregistered_TableSource_901622554, source: [PythonInputFormatTableSource(name, age)]]], fields=[name, age])\n",
      "\n"
     ]
    }
   ],
   "source": [
    "# Both Table API and SQL API are converted into Flink core before executing query\n",
    "print(result5.explain ()) # similar to spark explain extended\n",
    "\n",
    "# Abstract Syntax Tree , AST, compiler design\n",
    "# Logical in AST means, the plan as is, not optimized\n",
    "# read teh plan bottom up, bottom most one is executed first\n",
    "# a + b = infix\n",
    "# +ab = prefix\n",
    "# ab+ = postfix\n",
    "# result logical filter in prefix format <=($1, 30) <= is operator, 30 is filter value, $1 col name age\n",
    "\n",
    "# Optimized Physical Plan\n",
    "# flink optimize AST to execute faster based on cost model build without cluster size\n",
    "\n",
    " \n",
    "# == Optimized Execution Plan ==\n",
    "# final exeuction plan selected from optimized plans"
   ]
  },
  {
   "cell_type": "code",
   "execution_count": 20,
   "id": "c5bfae3f-d408-4f3a-b375-48230448e4f9",
   "metadata": {},
   "outputs": [
    {
     "name": "stdout",
     "output_type": "stream",
     "text": [
      "+--------------------------------+----------------------+\n",
      "|                           name |                  age |\n",
      "+--------------------------------+----------------------+\n",
      "|                         Venkat |                   40 |\n",
      "+--------------------------------+----------------------+\n",
      "1 row in set\n"
     ]
    }
   ],
   "source": [
    "# we can use sql api or python api\n",
    "\n",
    "result6 = table_env.sql_query(\"SELECT * FROM employees2 WHERE name LIKE 'V%'  \")\n",
    "result6.execute().print()"
   ]
  },
  {
   "cell_type": "code",
   "execution_count": 21,
   "id": "705e0839-cad1-474a-ae23-d206479f2367",
   "metadata": {},
   "outputs": [
    {
     "name": "stdout",
     "output_type": "stream",
     "text": [
      "+--------------------------------+----------------------+\n",
      "|                           name |                  age |\n",
      "+--------------------------------+----------------------+\n",
      "|                         Venkat |                   40 |\n",
      "+--------------------------------+----------------------+\n",
      "1 row in set\n"
     ]
    }
   ],
   "source": [
    "# table python api\n",
    "result7 = employee_table.where (col(\"name\").like(\"V%\"))\n",
    "result7.execute().print()"
   ]
  },
  {
   "cell_type": "code",
   "execution_count": 22,
   "id": "83c85079-17a2-405b-9548-c5a2ef90783a",
   "metadata": {},
   "outputs": [
    {
     "name": "stdout",
     "output_type": "stream",
     "text": [
      "+--------------------------------+\n",
      "|                            _c0 |\n",
      "+--------------------------------+\n",
      "|                            JOE |\n",
      "|                           MARY |\n",
      "|                         VENKAT |\n",
      "+--------------------------------+\n",
      "3 rows in set\n"
     ]
    }
   ],
   "source": [
    "result8 = employee_table.select ( col(\"name\").upper_case)\n",
    "result8.execute().print()"
   ]
  },
  {
   "cell_type": "code",
   "execution_count": null,
   "id": "9d2b948a-b74e-46f8-8426-74aea5272463",
   "metadata": {},
   "outputs": [],
   "source": []
  }
 ],
 "metadata": {
  "kernelspec": {
   "display_name": "Python 3 (ipykernel)",
   "language": "python",
   "name": "python3"
  },
  "language_info": {
   "codemirror_mode": {
    "name": "ipython",
    "version": 3
   },
   "file_extension": ".py",
   "mimetype": "text/x-python",
   "name": "python",
   "nbconvert_exporter": "python",
   "pygments_lexer": "ipython3",
   "version": "3.8.12"
  }
 },
 "nbformat": 4,
 "nbformat_minor": 5
}
