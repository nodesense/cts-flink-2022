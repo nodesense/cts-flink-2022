{
 "cells": [
  {
   "cell_type": "code",
   "execution_count": 2,
   "id": "9500b6b5-e0b8-44df-aa8f-bca1713d671f",
   "metadata": {},
   "outputs": [],
   "source": [
    "from pyflink.table import EnvironmentSettings, TableEnvironment\n",
    "# Shift + Enter to run the cell"
   ]
  },
  {
   "cell_type": "code",
   "execution_count": 3,
   "id": "6a937d64-b84a-4921-baad-a788334eebc7",
   "metadata": {},
   "outputs": [],
   "source": [
    "# create environment for batch mode \n",
    "env = EnvironmentSettings.in_batch_mode()\n",
    "\n",
    "#   create table environment\n",
    "table_env = TableEnvironment.create(env)"
   ]
  },
  {
   "cell_type": "code",
   "execution_count": 4,
   "id": "ac95fd65-f4e1-4fad-9ba4-73563d5e2218",
   "metadata": {},
   "outputs": [],
   "source": [
    "# hardcoded data\n",
    "# [] - python type list, mutable - change\n",
    "# () = type  tuple, immutable - cannot change\n",
    "data = [ (\"Joe\", 28), (\"Mary\", 34), (\"Venkat\", 40) ] # 3 records\n",
    "columns = [\"name\", \"age\"]\n",
    "# create virtual table or view\n",
    "employee_table = table_env.from_elements(data, columns)"
   ]
  },
  {
   "cell_type": "code",
   "execution_count": 5,
   "id": "a16b09de-cd54-4747-8ec6-f4921862e89a",
   "metadata": {},
   "outputs": [
    {
     "name": "stdout",
     "output_type": "stream",
     "text": [
      "(\n",
      "  `name` STRING,\n",
      "  `age` BIGINT\n",
      ")\n"
     ]
    }
   ],
   "source": [
    "# flink always works with structured data means data + meta data \n",
    "# meta data = schema , columns, data types etc\n",
    "\n",
    "# flink too infer schema\n",
    "# print schema\n",
    "employee_table.print_schema()"
   ]
  },
  {
   "cell_type": "code",
   "execution_count": 7,
   "id": "5df84cbe-6631-4aa9-9596-b1cc88ea4ae2",
   "metadata": {},
   "outputs": [
    {
     "data": {
      "text/html": [
       "<div>\n",
       "<style scoped>\n",
       "    .dataframe tbody tr th:only-of-type {\n",
       "        vertical-align: middle;\n",
       "    }\n",
       "\n",
       "    .dataframe tbody tr th {\n",
       "        vertical-align: top;\n",
       "    }\n",
       "\n",
       "    .dataframe thead th {\n",
       "        text-align: right;\n",
       "    }\n",
       "</style>\n",
       "<table border=\"1\" class=\"dataframe\">\n",
       "  <thead>\n",
       "    <tr style=\"text-align: right;\">\n",
       "      <th></th>\n",
       "      <th>name</th>\n",
       "      <th>age</th>\n",
       "    </tr>\n",
       "  </thead>\n",
       "  <tbody>\n",
       "    <tr>\n",
       "      <th>0</th>\n",
       "      <td>Joe</td>\n",
       "      <td>28</td>\n",
       "    </tr>\n",
       "    <tr>\n",
       "      <th>1</th>\n",
       "      <td>Mary</td>\n",
       "      <td>34</td>\n",
       "    </tr>\n",
       "    <tr>\n",
       "      <th>2</th>\n",
       "      <td>Venkat</td>\n",
       "      <td>40</td>\n",
       "    </tr>\n",
       "  </tbody>\n",
       "</table>\n",
       "</div>"
      ],
      "text/plain": [
       "     name  age\n",
       "0     Joe   28\n",
       "1    Mary   34\n",
       "2  Venkat   40"
      ]
     },
     "execution_count": 7,
     "metadata": {},
     "output_type": "execute_result"
    }
   ],
   "source": [
    "# pandas inbuilt, convert table data into pandas dataframe\n",
    "employee_table.to_pandas()"
   ]
  },
  {
   "cell_type": "code",
   "execution_count": null,
   "id": "f9e7ada1-6b2a-425e-8fad-cc88581d7955",
   "metadata": {},
   "outputs": [],
   "source": []
  }
 ],
 "metadata": {
  "kernelspec": {
   "display_name": "Python 3 (ipykernel)",
   "language": "python",
   "name": "python3"
  },
  "language_info": {
   "codemirror_mode": {
    "name": "ipython",
    "version": 3
   },
   "file_extension": ".py",
   "mimetype": "text/x-python",
   "name": "python",
   "nbconvert_exporter": "python",
   "pygments_lexer": "ipython3",
   "version": "3.8.12"
  }
 },
 "nbformat": 4,
 "nbformat_minor": 5
}
