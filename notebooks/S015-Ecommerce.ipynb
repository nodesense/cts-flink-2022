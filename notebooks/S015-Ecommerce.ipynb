{
 "cells": [
  {
   "cell_type": "code",
   "execution_count": 1,
   "id": "d5820280-6dd4-4dc7-aa54-25f7e631c6b4",
   "metadata": {},
   "outputs": [
    {
     "name": "stderr",
     "output_type": "stream",
     "text": [
      "SLF4J: Class path contains multiple SLF4J bindings.\n",
      "SLF4J: Found binding in [jar:file:/opt/flink-1.15.0/lib/log4j-slf4j-impl-2.17.1.jar!/org/slf4j/impl/StaticLoggerBinder.class]\n",
      "SLF4J: Found binding in [jar:file:/opt/hadoop-2.7.7/share/hadoop/common/lib/slf4j-log4j12-1.7.10.jar!/org/slf4j/impl/StaticLoggerBinder.class]\n",
      "SLF4J: See http://www.slf4j.org/codes.html#multiple_bindings for an explanation.\n",
      "SLF4J: Actual binding is of type [org.apache.logging.slf4j.Log4jLoggerFactory]\n"
     ]
    }
   ],
   "source": [
    "from pyflink.table import EnvironmentSettings, TableEnvironment, DataTypes, CsvTableSource\n",
    "import datetime\n",
    "from pyflink.table.expressions import col\n",
    "from pyflink.table.window import Over, GroupWindow\n",
    "from pyflink.table.expressions import col, UNBOUNDED_RANGE, CURRENT_RANGE\n",
    "from pyflink.table.udf import udf\n",
    "# create a batch TableEnvironment\n",
    "env_settings = EnvironmentSettings.in_batch_mode()\n",
    "table_env = TableEnvironment.create(env_settings)"
   ]
  },
  {
   "cell_type": "code",
   "execution_count": 3,
   "id": "99b0fbf3-64d5-40a3-a49e-bcf9c8100b45",
   "metadata": {},
   "outputs": [
    {
     "name": "stdout",
     "output_type": "stream",
     "text": [
      "\n",
      "Registered Tables List\n",
      "['invoices']\n",
      "\n",
      "Financial Trxs Schema\n",
      "(\n",
      "  `InvoiceNo` STRING,\n",
      "  `StockCode` STRING,\n",
      "  `Description` STRING,\n",
      "  `Quantity` DOUBLE,\n",
      "  `InvoiceDate` STRING,\n",
      "  `UnitPrice` DOUBLE,\n",
      "  `CustomerID` STRING,\n",
      "  `Country` STRING\n",
      ")\n"
     ]
    }
   ],
   "source": [
    "# InvoiceNo,StockCode,Description,Quantity,InvoiceDate,UnitPrice,CustomerID,Country\n",
    "# 536365,85123A,WHITE HANGING HEART T-LIGHT HOLDER,6,12/01/2010 8:26,2.55,17850,United Kingdom\n",
    "column_names = ['InvoiceNo', 'StockCode', 'Description', 'Quantity', \n",
    "                'InvoiceDate', 'UnitPrice', 'CustomerID', 'Country']\n",
    "\n",
    "column_types = [DataTypes.STRING(), DataTypes.STRING(), DataTypes.STRING(), DataTypes.DOUBLE(), \n",
    "                DataTypes.STRING(), DataTypes.DOUBLE(),DataTypes.STRING(), DataTypes.STRING()]\n",
    "\n",
    "source = CsvTableSource(\n",
    "   '../data/ecomm/1k-dataset.csv', #./data/3MINDIA.csv', #  './data',\n",
    "    column_names,\n",
    "    column_types,\n",
    "    ignore_first_line=True,\n",
    "    quote_character='\"',\n",
    "    lenient=True\n",
    ")\n",
    "\n",
    "table_env.register_table_source('invoices', source)\n",
    "\n",
    "invoices = table_env.from_path('invoices')\n",
    "\n",
    "\n",
    "##############################\n",
    "print('\\nRegistered Tables List')\n",
    "print(table_env.list_tables())\n",
    "\n",
    "print('\\nFinancial Trxs Schema')\n",
    "invoices.print_schema()\n"
   ]
  },
  {
   "cell_type": "code",
   "execution_count": 5,
   "id": "935f2f43-3d3b-47a5-8c9e-7f1bc792e714",
   "metadata": {},
   "outputs": [
    {
     "name": "stdout",
     "output_type": "stream",
     "text": [
      "+--------------------------------+--------------------------------+--------------------------------+--------------------------------+--------------------------------+--------------------------------+--------------------------------+--------------------------------+\n",
      "|                      InvoiceNo |                      StockCode |                    Description |                       Quantity |                    InvoiceDate |                      UnitPrice |                     CustomerID |                        Country |\n",
      "+--------------------------------+--------------------------------+--------------------------------+--------------------------------+--------------------------------+--------------------------------+--------------------------------+--------------------------------+\n",
      "|                         536365 |                         85123A | WHITE HANGING HEART T-LIGHT... |                            6.0 |                12/01/2010 8:26 |                           2.55 |                          17850 |                 United Kingdom |\n",
      "|                         536365 |                          71053 |            WHITE METAL LANTERN |                            6.0 |                12/01/2010 8:26 |                           3.39 |                          17850 |                 United Kingdom |\n",
      "|                         536365 |                         84406B | CREAM CUPID HEARTS COAT HANGER |                            8.0 |                12/01/2010 8:26 |                           2.75 |                          17850 |                 United Kingdom |\n",
      "+--------------------------------+--------------------------------+--------------------------------+--------------------------------+--------------------------------+--------------------------------+--------------------------------+--------------------------------+\n",
      "3 rows in set\n"
     ]
    }
   ],
   "source": [
    "invoices.fetch(3).execute().print()"
   ]
  },
  {
   "cell_type": "code",
   "execution_count": null,
   "id": "706afc2a-0665-486c-8470-54a173fcc862",
   "metadata": {},
   "outputs": [],
   "source": [
    "#         .column_by_expression(\"rowtime\", \"CAST(f0 AS TIMESTAMP(3))\") \\\n",
    "\n",
    "\n",
    "\n",
    "# datetime in string format for may 25 1999\n",
    "input = '12/01/2010 8:26'\n",
    "  \n",
    "# format\n",
    "format = '%d/%m/%Y %H:%M'\n",
    "  \n",
    "# convert from string format to datetime format\n",
    "dt = datetime.datetime.strptime(input, format)\n",
    "  \n",
    "# get the date from the datetime using date() \n",
    "# function\n",
    "print(dt)\n",
    "\n",
    "new_format = '%Y-%m-%d %H:%M:%S' \n",
    "dt.strftime(new_format)"
   ]
  },
  {
   "cell_type": "code",
   "execution_count": null,
   "id": "185ccc22-c5d1-448f-ba4f-57865fd04fcc",
   "metadata": {},
   "outputs": [],
   "source": [
    "\n",
    "\n",
    "def convertDateFormat2(input):\n",
    "    # format\n",
    "    format = '%d/%m/%Y %H:%M'\n",
    "  \n",
    "    # convert from string format to datetime format\n",
    "    dt = datetime.datetime.strptime(input, format)\n",
    "    new_format = '%Y-%m-%d %H:%M:%S' \n",
    "    return dt.strftime(new_format)\n",
    "\n",
    "\n",
    "convertDateFormat = udf(convertDateFormat2, [DataTypes.STRING()], DataTypes.STRING())\n",
    "\n",
    " "
   ]
  },
  {
   "cell_type": "code",
   "execution_count": null,
   "id": "bcf920d4-96fe-470f-a3df-050f9e975cbb",
   "metadata": {},
   "outputs": [],
   "source": [
    "\n",
    "  \n",
    "              \n",
    "invoices2 = invoices.add_columns(convertDateFormat(col('InvoiceDate')).alias('CInvoiceDate'))\\\n",
    "                    .drop_columns(col('InvoiceDate'))\\\n",
    "                    .add_columns(col(\"CInvoiceDate\").cast(DataTypes.TIMESTAMP(3)).alias(\"InvoiceDate\"))\\\n",
    "                    .drop_columns(col('CInvoiceDate'))\n",
    "                     \n",
    "\n",
    "print('\\n invoices2  Schema')\n",
    "invoices2.print_schema()\n",
    "invoices2.fetch(3).execute().print()"
   ]
  },
  {
   "cell_type": "code",
   "execution_count": null,
   "id": "049aa5e6-8309-49a8-860b-6842d1d060f1",
   "metadata": {},
   "outputs": [],
   "source": []
  }
 ],
 "metadata": {
  "kernelspec": {
   "display_name": "Python 3 (ipykernel)",
   "language": "python",
   "name": "python3"
  },
  "language_info": {
   "codemirror_mode": {
    "name": "ipython",
    "version": 3
   },
   "file_extension": ".py",
   "mimetype": "text/x-python",
   "name": "python",
   "nbconvert_exporter": "python",
   "pygments_lexer": "ipython3",
   "version": "3.8.12"
  }
 },
 "nbformat": 4,
 "nbformat_minor": 5
}
