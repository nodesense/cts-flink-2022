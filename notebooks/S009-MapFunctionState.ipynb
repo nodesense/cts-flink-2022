{
 "cells": [
  {
   "cell_type": "code",
   "execution_count": 1,
   "id": "2a1c22d8-f344-43ac-8557-ab87126f2d94",
   "metadata": {},
   "outputs": [],
   "source": [
    "from pyflink.common import WatermarkStrategy, Row\n",
    "from pyflink.common.typeinfo import Types\n",
    "from pyflink.datastream import StreamExecutionEnvironment\n",
    "from pyflink.datastream.connectors import NumberSequenceSource\n",
    "from pyflink.datastream.functions import RuntimeContext, MapFunction\n",
    "from pyflink.datastream.state import ValueStateDescriptor"
   ]
  },
  {
   "cell_type": "code",
   "execution_count": 2,
   "id": "699a0ae8-6d0f-4317-bdda-5217096b6b88",
   "metadata": {},
   "outputs": [
    {
     "name": "stderr",
     "output_type": "stream",
     "text": [
      "SLF4J: Class path contains multiple SLF4J bindings.\n",
      "SLF4J: Found binding in [jar:file:/opt/flink-1.15.0/lib/log4j-slf4j-impl-2.17.1.jar!/org/slf4j/impl/StaticLoggerBinder.class]\n",
      "SLF4J: Found binding in [jar:file:/opt/hadoop-2.7.7/share/hadoop/common/lib/slf4j-log4j12-1.7.10.jar!/org/slf4j/impl/StaticLoggerBinder.class]\n",
      "SLF4J: See http://www.slf4j.org/codes.html#multiple_bindings for an explanation.\n",
      "SLF4J: Actual binding is of type [org.apache.logging.slf4j.Log4jLoggerFactory]\n"
     ]
    }
   ],
   "source": [
    "#1. Create streamexecutionenvironment\n",
    "env = StreamExecutionEnvironment.get_execution_environment()"
   ]
  },
  {
   "cell_type": "code",
   "execution_count": 3,
   "id": "6ee43a8a-a7ea-4779-9c68-2ef039f55d79",
   "metadata": {},
   "outputs": [],
   "source": [
    "# State custom logic implementation\n",
    "class MyMapFunction(MapFunction):\n",
    "\n",
    "    def open(self, runtime_context: RuntimeContext):\n",
    "        print(\"MyMapFunction open\")\n",
    "        state_desc = ValueStateDescriptor('cnt', Types.LONG())\n",
    "        #Define value state\n",
    "        self.cnt_state = runtime_context.get_state(state_desc)\n",
    "        print (\"Count state is \", self.cnt_state)\n",
    "        \n",
    "\n",
    "    def map(self, value):\n",
    "        \n",
    "        cnt = self.cnt_state.value()\n",
    "        print(\"MyMapFunction map\", cnt)\n",
    "        if cnt is None:\n",
    "            cnt = 0\n",
    "\n",
    "        new_cnt = cnt + 1\n",
    "        self.cnt_state.update(new_cnt)\n",
    "        return value[0], new_cnt"
   ]
  },
  {
   "cell_type": "code",
   "execution_count": 4,
   "id": "dc930be3-cec5-4425-9986-84be6455277b",
   "metadata": {},
   "outputs": [],
   "source": [
    "#2. Create data source\n",
    "seq_num_source = NumberSequenceSource(1, 10)"
   ]
  },
  {
   "cell_type": "code",
   "execution_count": 5,
   "id": "a21c4e30-4631-4905-91e8-2e0e943fa925",
   "metadata": {},
   "outputs": [],
   "source": [
    "# ds - data stream , previously we saw table in batch mode\n",
    "ds = env.from_source(\n",
    "    source=seq_num_source,\n",
    "    watermark_strategy=WatermarkStrategy.for_monotonous_timestamps(),\n",
    "    source_name='seq_num_source',\n",
    "    type_info=Types.LONG())"
   ]
  },
  {
   "cell_type": "code",
   "execution_count": 6,
   "id": "951b63fe-3d80-4126-9eba-22e1cc31f94d",
   "metadata": {},
   "outputs": [],
   "source": [
    "#3. Define execution logic\n",
    "ds = ds.map(lambda a: Row(a % 4, 1), output_type=Types.ROW([Types.LONG(), Types.LONG()])) \\\n",
    "       .key_by(lambda a: a[0]) \\\n",
    "       .map(MyMapFunction(), output_type=Types.TUPLE([Types.LONG(), Types.LONG()]))"
   ]
  },
  {
   "cell_type": "code",
   "execution_count": 7,
   "id": "7d7cc52e-27cc-4d9e-83e1-28f569b8e7cf",
   "metadata": {},
   "outputs": [
    {
     "data": {
      "text/plain": [
       "<pyflink.datastream.data_stream.DataStreamSink at 0x7f47783d10d0>"
      ]
     },
     "execution_count": 7,
     "metadata": {},
     "output_type": "execute_result"
    }
   ],
   "source": [
    "#4. Print the result data\n",
    "ds.print()"
   ]
  },
  {
   "cell_type": "code",
   "execution_count": 8,
   "id": "725fa486-e4eb-4c0b-a691-8ef20044756d",
   "metadata": {},
   "outputs": [
    {
     "name": "stdout",
     "output_type": "stream",
     "text": [
      "MyMapFunction open\n",
      "Count state is  <pyflink.fn_execution.state_impl.SynchronousValueRuntimeState object at 0x7f47782a2e50>\n",
      "MyMapFunction open\n",
      "Count state is  <pyflink.fn_execution.state_impl.SynchronousValueRuntimeState object at 0x7f4778230a90>\n",
      "MyMapFunction open\n",
      "Count state is  <pyflink.fn_execution.state_impl.SynchronousValueRuntimeState object at 0x7f4778250040>\n"
     ]
    },
    {
     "name": "stderr",
     "output_type": "stream",
     "text": [
      "Exception in thread read_grpc_client_inputs:\n",
      "Traceback (most recent call last):\n",
      "  File \"/home/rps/miniconda3/lib/python3.8/threading.py\", line 932, in _bootstrap_inner\n",
      "    self.run()\n",
      "  File \"/home/rps/miniconda3/lib/python3.8/threading.py\", line 870, in run\n",
      "    self._target(*self._args, **self._kwargs)\n",
      "  File \"/home/rps/miniconda3/lib/python3.8/site-packages/apache_beam/runners/worker/data_plane.py\", line 598, in <lambda>\n",
      "    target=lambda: self._read_inputs(elements_iterator),\n",
      "  File \"/home/rps/miniconda3/lib/python3.8/site-packages/apache_beam/runners/worker/data_plane.py\", line 581, in _read_inputs\n",
      "    for elements in elements_iterator:\n",
      "  File \"/home/rps/miniconda3/lib/python3.8/site-packages/grpc/_channel.py\", line 426, in __next__\n",
      "    return self._next()\n",
      "  File \"/home/rps/miniconda3/lib/python3.8/site-packages/grpc/_channel.py\", line 826, in _next\n",
      "    raise self\n",
      "grpc._channel._MultiThreadedRendezvous: <_MultiThreadedRendezvous of RPC that terminated with:\n",
      "\tstatus = StatusCode.CANCELLED\n",
      "\tdetails = \"Multiplexer hanging up\"\n",
      "\tdebug_error_string = \"{\"created\":\"@1654699018.434820017\",\"description\":\"Error received from peer ipv6:[::1]:40285\",\"file\":\"src/core/lib/surface/call.cc\",\"file_line\":952,\"grpc_message\":\"Multiplexer hanging up\",\"grpc_status\":1}\"\n",
      ">\n"
     ]
    },
    {
     "name": "stdout",
     "output_type": "stream",
     "text": [
      "MyMapFunction mapMyMapFunction map None\n",
      "MyMapFunction map 1\n",
      " None\n",
      "MyMapFunction map None\n",
      "MyMapFunction map 1\n",
      "MyMapFunction map 2\n",
      "MyMapFunction map None\n",
      "MyMapFunction map 1\n",
      "MyMapFunction map 2\n",
      "MyMapFunction map 1\n",
      "3> (3,1)\n",
      "3> (3,2)\n",
      "2> (1,1)\n",
      "2> (1,2)\n",
      "2> (1,3)\n",
      "1> (2,1)\n",
      "1> (0,1)\n",
      "1> (2,2)\n",
      "1> (2,3)\n",
      "1> (0,2)\n"
     ]
    },
    {
     "data": {
      "text/plain": [
       "<pyflink.common.job_execution_result.JobExecutionResult at 0x7f4778241e50>"
      ]
     },
     "execution_count": 8,
     "metadata": {},
     "output_type": "execute_result"
    }
   ],
   "source": [
    "#5. Perform the operation\n",
    "env.execute()"
   ]
  },
  {
   "cell_type": "code",
   "execution_count": null,
   "id": "9bd309aa-b2cd-45d8-a155-ead3799d9e83",
   "metadata": {},
   "outputs": [],
   "source": []
  }
 ],
 "metadata": {
  "kernelspec": {
   "display_name": "Python 3 (ipykernel)",
   "language": "python",
   "name": "python3"
  },
  "language_info": {
   "codemirror_mode": {
    "name": "ipython",
    "version": 3
   },
   "file_extension": ".py",
   "mimetype": "text/x-python",
   "name": "python",
   "nbconvert_exporter": "python",
   "pygments_lexer": "ipython3",
   "version": "3.8.12"
  }
 },
 "nbformat": 4,
 "nbformat_minor": 5
}
