{
 "cells": [
  {
   "cell_type": "code",
   "execution_count": 1,
   "id": "5f0b28bc-464c-4bc2-99c8-a4088afbeb83",
   "metadata": {},
   "outputs": [],
   "source": [
    "from pyflink.table import EnvironmentSettings, TableEnvironment, DataTypes, CsvTableSource\n",
    "import datetime\n",
    "from pyflink.table.expressions import col\n",
    "from pyflink.table.window import Over, GroupWindow\n",
    "from pyflink.table.expressions import col, UNBOUNDED_RANGE, CURRENT_RANGE\n",
    "from pyflink.table.udf import udf\n",
    "# create a batch TableEnvironment\n",
    "env_settings = EnvironmentSettings.in_batch_mode()\n",
    "table_env = TableEnvironment.create(env_settings)"
   ]
  },
  {
   "cell_type": "code",
   "execution_count": 2,
   "id": "86a4b6dd-5a33-4f30-bba9-f1b686c5ee21",
   "metadata": {},
   "outputs": [
    {
     "name": "stdout",
     "output_type": "stream",
     "text": [
      "\n",
      "Registered Tables List\n",
      "['invoices']\n",
      "\n",
      "Financial Trxs Schema\n",
      "(\n",
      "  `InvoiceNo` STRING,\n",
      "  `StockCode` STRING,\n",
      "  `Description` STRING,\n",
      "  `Quantity` DOUBLE,\n",
      "  `InvoiceDate` TIMESTAMP(3),\n",
      "  `UnitPrice` DOUBLE,\n",
      "  `CustomerID` STRING,\n",
      "  `Country` STRING\n",
      ")\n",
      "+--------------------------------+--------------------------------+--------------------------------+--------------------------------+-------------------------+--------------------------------+--------------------------------+--------------------------------+\n",
      "|                      InvoiceNo |                      StockCode |                    Description |                       Quantity |             InvoiceDate |                      UnitPrice |                     CustomerID |                        Country |\n",
      "+--------------------------------+--------------------------------+--------------------------------+--------------------------------+-------------------------+--------------------------------+--------------------------------+--------------------------------+\n",
      "|                         536365 |                         85123A | WHITE HANGING HEART T-LIGHT... |                            6.0 | 2010-12-01 08:26:00.000 |                           2.55 |                          17850 |                 United Kingdom |\n",
      "|                         536365 |                          71053 |            WHITE METAL LANTERN |                            6.0 | 2010-12-01 08:26:00.000 |                           3.39 |                          17850 |                 United Kingdom |\n",
      "|                         536365 |                         84406B | CREAM CUPID HEARTS COAT HANGER |                            8.0 | 2010-12-01 08:26:00.000 |                           2.75 |                          17850 |                 United Kingdom |\n",
      "+--------------------------------+--------------------------------+--------------------------------+--------------------------------+-------------------------+--------------------------------+--------------------------------+--------------------------------+\n",
      "3 rows in set\n"
     ]
    }
   ],
   "source": [
    "# InvoiceNo,StockCode,Description,Quantity,InvoiceDate,UnitPrice,CustomerID,Country\n",
    "# 536365,85123A,WHITE HANGING HEART T-LIGHT HOLDER,6,12/01/2010 8:26,2.55,17850,United Kingdom\n",
    "column_names = ['InvoiceNo', 'StockCode', 'Description', 'Quantity', \n",
    "                'InvoiceDate', 'UnitPrice', 'CustomerID', 'Country']\n",
    "\n",
    "column_types = [DataTypes.STRING(), DataTypes.STRING(), DataTypes.STRING(), DataTypes.DOUBLE(), \n",
    "                DataTypes.TIMESTAMP(3), DataTypes.DOUBLE(),DataTypes.STRING(), DataTypes.STRING()]\n",
    "\n",
    "source = CsvTableSource(\n",
    "   '../data/ecommerce-clean.csv',  \n",
    "    column_names,\n",
    "    column_types,\n",
    "    ignore_first_line=False,\n",
    "    quote_character='\"',\n",
    "    lenient=True\n",
    ")\n",
    "\n",
    "# source is data source -origin data is from\n",
    "# table is flink api\n",
    "# sink is target where data goes to after transformation\n",
    "table_env.register_table_source('invoices', source)\n",
    "\n",
    "# invoices is a table\n",
    "invoices = table_env.from_path('invoices')\n",
    "\n",
    "\n",
    "##############################\n",
    "print('\\nRegistered Tables List')\n",
    "print(table_env.list_tables())\n",
    "\n",
    "print('\\nFinancial Trxs Schema')\n",
    "invoices.print_schema()\n",
    "\n",
    "invoices.fetch(3).execute().print()"
   ]
  },
  {
   "cell_type": "code",
   "execution_count": 17,
   "id": "3b44eb2a-75e2-4694-b3b3-c019d66e629e",
   "metadata": {},
   "outputs": [
    {
     "name": "stdout",
     "output_type": "stream",
     "text": [
      "(\n",
      "  `InvoiceNo` STRING,\n",
      "  `hour` TIMESTAMP(3),\n",
      "  `Qty` DOUBLE\n",
      ")\n",
      "+--------------------------------+-------------------------+--------------------------------+\n",
      "|                      InvoiceNo |                    hour |                            Qty |\n",
      "+--------------------------------+-------------------------+--------------------------------+\n",
      "|                         547910 | 2011-03-28 13:00:00.000 |                          402.0 |\n",
      "|                         547919 | 2011-03-28 13:00:00.000 |                           96.0 |\n",
      "|                         547926 | 2011-03-28 14:00:00.000 |                          268.0 |\n",
      "|                         547928 | 2011-03-28 15:00:00.000 |                            1.0 |\n",
      "|                         547931 | 2011-03-28 15:00:00.000 |                            1.0 |\n",
      "|                         547933 | 2011-03-28 15:00:00.000 |                            1.0 |\n",
      "|                         547934 | 2011-03-28 15:00:00.000 |                          157.0 |\n",
      "|                         547936 | 2011-03-28 15:00:00.000 |                           23.0 |\n",
      "|                         547938 | 2011-03-28 15:00:00.000 |                          244.0 |\n",
      "|                         547939 | 2011-03-28 15:00:00.000 |                           10.0 |\n",
      "|                         547940 | 2011-03-28 15:00:00.000 |                          187.0 |\n",
      "|                         547941 | 2011-03-28 15:00:00.000 |                          151.0 |\n",
      "|                         547960 | 2011-03-28 16:00:00.000 |                           95.0 |\n",
      "|                         547964 | 2011-03-28 16:00:00.000 |                          368.0 |\n",
      "|                         547965 | 2011-03-28 16:00:00.000 |                           58.0 |\n",
      "|                         547989 | 2011-03-29 10:00:00.000 |                         -100.0 |\n",
      "|                        C547992 | 2011-03-29 10:00:00.000 |                           -4.0 |\n",
      "|                         548012 | 2011-03-29 12:00:00.000 |                          118.0 |\n",
      "|                        C548015 | 2011-03-29 12:00:00.000 |                          -30.0 |\n",
      "|                         548016 | 2011-03-29 12:00:00.000 |                           36.0 |\n",
      "|                         548095 | 2011-03-29 13:00:00.000 |                           -3.0 |\n",
      "|                         548098 | 2011-03-29 13:00:00.000 |                          -15.0 |\n",
      "|                         548104 | 2011-03-29 13:00:00.000 |                           -3.0 |\n",
      "|                         548152 | 2011-03-29 14:00:00.000 |                          182.0 |\n",
      "|                         548153 | 2011-03-29 14:00:00.000 |                          368.0 |\n",
      "|                         548154 | 2011-03-29 14:00:00.000 |                          173.0 |\n",
      "|                         548157 | 2011-03-29 14:00:00.000 |                          920.0 |\n",
      "|                         548158 | 2011-03-29 14:00:00.000 |                           92.0 |\n",
      "|                         548159 | 2011-03-29 14:00:00.000 |                           16.0 |\n",
      "|                         548173 | 2011-03-29 15:00:00.000 |                           -3.0 |\n",
      "+--------------------------------+-------------------------+--------------------------------+\n",
      "30 rows in set\n"
     ]
    }
   ],
   "source": [
    "# what is 1 hour transactions \n",
    "# how many transactions per hour\n",
    "# Tumble window - non overlapping, fixed size window\n",
    "# data is processed only once in a window\n",
    "from pyflink.table.expressions import col, lit\n",
    "from pyflink.table.window import Tumble\n",
    "# lit - literal, useful constant data\n",
    "result = invoices\\\n",
    "                 .select(col(\"InvoiceDate\"), col(\"InvoiceNo\"), col(\"Quantity\"))\\\n",
    "                 .window(Tumble.over(lit(1).hour).on(col(\"InvoiceDate\")).alias(\"hourly_window\")) \\\n",
    "                 .group_by(col('hourly_window'), col('InvoiceNo')) \\\n",
    "                   .select(col('InvoiceNo'), col('hourly_window').end.alias('hour'), col(\"Quantity\").sum.alias('Qty'))\n",
    " \n",
    "                         \n",
    "result.print_schema()\n",
    "result.fetch(30).execute().print()"
   ]
  },
  {
   "cell_type": "code",
   "execution_count": null,
   "id": "fb2729b5-ea4d-49d8-b0ae-2415b84e90b0",
   "metadata": {},
   "outputs": [],
   "source": []
  }
 ],
 "metadata": {
  "kernelspec": {
   "display_name": "Python 3 (ipykernel)",
   "language": "python",
   "name": "python3"
  },
  "language_info": {
   "codemirror_mode": {
    "name": "ipython",
    "version": 3
   },
   "file_extension": ".py",
   "mimetype": "text/x-python",
   "name": "python",
   "nbconvert_exporter": "python",
   "pygments_lexer": "ipython3",
   "version": "3.8.12"
  }
 },
 "nbformat": 4,
 "nbformat_minor": 5
}
