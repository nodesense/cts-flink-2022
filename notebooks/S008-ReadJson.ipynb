{
 "cells": [
  {
   "cell_type": "code",
   "execution_count": 1,
   "id": "9667cb34-9b85-4891-9fee-522e49247106",
   "metadata": {},
   "outputs": [
    {
     "name": "stderr",
     "output_type": "stream",
     "text": [
      "SLF4J: Class path contains multiple SLF4J bindings.\n",
      "SLF4J: Found binding in [jar:file:/opt/flink-1.15.0/lib/log4j-slf4j-impl-2.17.1.jar!/org/slf4j/impl/StaticLoggerBinder.class]\n",
      "SLF4J: Found binding in [jar:file:/opt/hadoop-2.7.7/share/hadoop/common/lib/slf4j-log4j12-1.7.10.jar!/org/slf4j/impl/StaticLoggerBinder.class]\n",
      "SLF4J: See http://www.slf4j.org/codes.html#multiple_bindings for an explanation.\n",
      "SLF4J: Actual binding is of type [org.apache.logging.slf4j.Log4jLoggerFactory]\n"
     ]
    }
   ],
   "source": [
    "from pyflink.table import *\n",
    "from pyflink.table.expressions import col\n",
    "\n",
    "# environment configuration\n",
    "table_env = TableEnvironment.create(\n",
    "        environment_settings=EnvironmentSettings.new_instance().in_batch_mode().build())\n",
    " \n",
    "#table_env.get_config().get_configuration().set_string(\"pipeline.jars\", \"file:///opt/flink-1.15.0/lib/flink-sql-parquet-1.15.0.jar\")"
   ]
  },
  {
   "cell_type": "code",
   "execution_count": 2,
   "id": "1590e413-6e67-4892-89d6-9e29388b1d1d",
   "metadata": {},
   "outputs": [
    {
     "name": "stdout",
     "output_type": "stream",
     "text": [
      "+--------------------------------+--------------------------------+--------------------------------+--------------------------------+-------------------------+--------------------------------+--------------------------------+--------------------------------+\n",
      "|                      InvoiceNo |                      StockCode |                    Description |                       Quantity |             InvoiceDate |                      UnitPrice |                     CustomerID |                        Country |\n",
      "+--------------------------------+--------------------------------+--------------------------------+--------------------------------+-------------------------+--------------------------------+--------------------------------+--------------------------------+\n",
      "|                         536365 |                         85123A | WHITE HANGING HEART T-LIGHT... |                            6.0 | 2010-12-01 08:26:00.000 |                           2.55 |                          17850 |                 United Kingdom |\n",
      "|                         536365 |                          71053 |            WHITE METAL LANTERN |                            6.0 | 2010-12-01 08:26:00.000 |                           3.39 |                          17850 |                 United Kingdom |\n",
      "+--------------------------------+--------------------------------+--------------------------------+--------------------------------+-------------------------+--------------------------------+--------------------------------+--------------------------------+\n",
      "2 rows in set\n"
     ]
    }
   ],
   "source": [
    "# InvoiceNo,StockCode,Description,Quantity,InvoiceDate,UnitPrice,CustomerID,Country\n",
    "# 536365,85123A,WHITE HANGING HEART T-LIGHT HOLDER,6,12/01/2010 8:26,2.55,17850,United Kingdom\n",
    "\n",
    "source_ddl = \"\"\"\n",
    "            CREATE TABLE invoices (\n",
    "                   InvoiceNo STRING,\n",
    "                   StockCode  STRING,\n",
    "                   Description  STRING,\n",
    "                   Quantity DOUBLE,\n",
    "                   InvoiceDate TIMESTAMP(3),\n",
    "                   UnitPrice DOUBLE,\n",
    "                   CustomerID STRING,\n",
    "                   Country STRING\n",
    "\n",
    "                    ) WITH (\n",
    "                      'connector' = 'filesystem',          \n",
    "                      'format' = 'json',\n",
    "                          'path' = 'file:///home/rps/workshop/data/ecommerce-clean.json'\n",
    "                    )\"\"\"\n",
    "\n",
    "\n",
    "\n",
    "\n",
    "table_env.execute_sql(source_ddl) \n",
    "\n",
    "invoices = table_env.from_path(\"invoices\")\n",
    "invoices.fetch(2).execute().print()"
   ]
  },
  {
   "cell_type": "code",
   "execution_count": null,
   "id": "74afb8da-a898-4584-9726-e3c17da527fb",
   "metadata": {},
   "outputs": [],
   "source": []
  }
 ],
 "metadata": {
  "kernelspec": {
   "display_name": "Python 3 (ipykernel)",
   "language": "python",
   "name": "python3"
  },
  "language_info": {
   "codemirror_mode": {
    "name": "ipython",
    "version": 3
   },
   "file_extension": ".py",
   "mimetype": "text/x-python",
   "name": "python",
   "nbconvert_exporter": "python",
   "pygments_lexer": "ipython3",
   "version": "3.8.12"
  }
 },
 "nbformat": 4,
 "nbformat_minor": 5
}
