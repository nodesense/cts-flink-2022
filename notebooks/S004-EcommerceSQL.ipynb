{
 "cells": [
  {
   "cell_type": "code",
   "execution_count": 1,
   "id": "d39f2bfc-ffe4-42e1-925d-85178dc60a0a",
   "metadata": {},
   "outputs": [],
   "source": [
    "from pyflink.table import EnvironmentSettings, TableEnvironment, DataTypes, CsvTableSource\n",
    "import datetime\n",
    "from pyflink.table.expressions import col\n",
    "from pyflink.table.window import Over, GroupWindow\n",
    "from pyflink.table.expressions import col, UNBOUNDED_RANGE, CURRENT_RANGE\n",
    "from pyflink.table.udf import udf\n",
    "# create a batch TableEnvironment\n",
    "env_settings = EnvironmentSettings.in_batch_mode()\n",
    "table_env = TableEnvironment.create(env_settings)\n",
    "#table_env.get_config().get_configuration().set_string(\"pipeline.jars\", \"file:///opt/flink-1.15.0/lib/flink-csv-1.15.0.jar;\")"
   ]
  },
  {
   "cell_type": "code",
   "execution_count": 2,
   "id": "a3069861-1522-4d68-81ab-fae6c8773be0",
   "metadata": {},
   "outputs": [
    {
     "name": "stdout",
     "output_type": "stream",
     "text": [
      "\n",
      "Registered Tables List\n",
      "['invoices']\n",
      "\n",
      "Financial Trxs Schema\n",
      "(\n",
      "  `InvoiceNo` STRING,\n",
      "  `StockCode` STRING,\n",
      "  `Description` STRING,\n",
      "  `Quantity` DOUBLE,\n",
      "  `InvoiceDate` TIMESTAMP(3),\n",
      "  `UnitPrice` DOUBLE,\n",
      "  `CustomerID` STRING,\n",
      "  `Country` STRING\n",
      ")\n"
     ]
    }
   ],
   "source": [
    "# InvoiceNo,StockCode,Description,Quantity,InvoiceDate,UnitPrice,CustomerID,Country\n",
    "# 536365,85123A,WHITE HANGING HEART T-LIGHT HOLDER,6,12/01/2010 8:26,2.55,17850,United Kingdom\n",
    "# create table in default catalog , default database\n",
    "source_ddl = \"\"\"\n",
    "            CREATE TABLE invoices (\n",
    "                   InvoiceNo STRING,\n",
    "                   StockCode  STRING,\n",
    "                   Description  STRING,\n",
    "                   Quantity DOUBLE,\n",
    "                   InvoiceDate TIMESTAMP(3),\n",
    "                   UnitPrice DOUBLE,\n",
    "                   CustomerID STRING,\n",
    "                   Country STRING\n",
    "\n",
    "                    ) WITH (\n",
    "                      'connector' = 'filesystem',          \n",
    "                      'path' = 'file:///home/rps/workshop/data/ecommerce-clean.csv', \n",
    "                      'format' = 'csv'\n",
    "                    )\"\"\"\n",
    "\n",
    "\n",
    "table_env.execute_sql(source_ddl) \n",
    "\n",
    "# tabel view for python table api\n",
    "invoices = table_env.from_path(\"invoices\")\n",
    "##############################\n",
    "print('\\nRegistered Tables List')\n",
    "print(table_env.list_tables())\n",
    "\n",
    "print('\\nFinancial Trxs Schema')\n",
    "invoices.print_schema()"
   ]
  },
  {
   "cell_type": "code",
   "execution_count": 3,
   "id": "500c5418-f934-4489-bd33-a604cbd5ce0c",
   "metadata": {},
   "outputs": [
    {
     "name": "stdout",
     "output_type": "stream",
     "text": [
      "+--------------------------------+--------------------------------+--------------------------------+--------------------------------+-------------------------+--------------------------------+--------------------------------+--------------------------------+\n",
      "|                      InvoiceNo |                      StockCode |                    Description |                       Quantity |             InvoiceDate |                      UnitPrice |                     CustomerID |                        Country |\n",
      "+--------------------------------+--------------------------------+--------------------------------+--------------------------------+-------------------------+--------------------------------+--------------------------------+--------------------------------+\n",
      "|                         536365 |                         85123A | WHITE HANGING HEART T-LIGHT... |                            6.0 | 2010-12-01 08:26:00.000 |                           2.55 |                          17850 |                 United Kingdom |\n",
      "|                         536365 |                          71053 |            WHITE METAL LANTERN |                            6.0 | 2010-12-01 08:26:00.000 |                           3.39 |                          17850 |                 United Kingdom |\n",
      "|                         536365 |                         84406B | CREAM CUPID HEARTS COAT HANGER |                            8.0 | 2010-12-01 08:26:00.000 |                           2.75 |                          17850 |                 United Kingdom |\n",
      "+--------------------------------+--------------------------------+--------------------------------+--------------------------------+-------------------------+--------------------------------+--------------------------------+--------------------------------+\n",
      "3 rows in set\n"
     ]
    }
   ],
   "source": [
    "invoices.fetch(3).execute().print()"
   ]
  },
  {
   "cell_type": "code",
   "execution_count": null,
   "id": "c9c4fdf3-742b-4916-93ce-1cf62ceae742",
   "metadata": {},
   "outputs": [],
   "source": []
  }
 ],
 "metadata": {
  "kernelspec": {
   "display_name": "Python 3 (ipykernel)",
   "language": "python",
   "name": "python3"
  },
  "language_info": {
   "codemirror_mode": {
    "name": "ipython",
    "version": 3
   },
   "file_extension": ".py",
   "mimetype": "text/x-python",
   "name": "python",
   "nbconvert_exporter": "python",
   "pygments_lexer": "ipython3",
   "version": "3.8.12"
  }
 },
 "nbformat": 4,
 "nbformat_minor": 5
}
