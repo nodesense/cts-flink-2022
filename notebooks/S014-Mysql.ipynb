{
 "cells": [
  {
   "cell_type": "code",
   "execution_count": 2,
   "id": "a82a06e7-569f-4290-a848-7712f53484e7",
   "metadata": {},
   "outputs": [],
   "source": [
    "\n",
    "\n",
    "\n",
    "from pyflink.datastream import StreamExecutionEnvironment, TimeCharacteristic\n",
    "from pyflink.table import StreamTableEnvironment, EnvironmentSettings\n",
    "from pyflink.common.typeinfo import *\n",
    "from pyflink.datastream import StreamExecutionEnvironment\n",
    "from pyflink.table import StreamTableEnvironment, EnvironmentSettings\n",
    "\n",
    "from pyflink.datastream import StreamExecutionEnvironment\n",
    "\n",
    "from pyflink.table import (\n",
    "    StreamTableEnvironment,\n",
    ")\n",
    "\n",
    "from pathlib import Path\n",
    "\n",
    "from pathlib import Path\n"
   ]
  },
  {
   "cell_type": "code",
   "execution_count": 3,
   "id": "7e1462d7-712c-486e-af4d-5cc4fc99cf37",
   "metadata": {},
   "outputs": [
    {
     "name": "stderr",
     "output_type": "stream",
     "text": [
      "SLF4J: Class path contains multiple SLF4J bindings.\n",
      "SLF4J: Found binding in [jar:file:/opt/flink-1.15.0/lib/log4j-slf4j-impl-2.17.1.jar!/org/slf4j/impl/StaticLoggerBinder.class]\n",
      "SLF4J: Found binding in [jar:file:/opt/hadoop-2.7.7/share/hadoop/common/lib/slf4j-log4j12-1.7.10.jar!/org/slf4j/impl/StaticLoggerBinder.class]\n",
      "SLF4J: See http://www.slf4j.org/codes.html#multiple_bindings for an explanation.\n",
      "SLF4J: Actual binding is of type [org.apache.logging.slf4j.Log4jLoggerFactory]\n"
     ]
    },
    {
     "data": {
      "text/plain": [
       "<pyflink.common.configuration.Configuration at 0x7efe01dcbe80>"
      ]
     },
     "execution_count": 3,
     "metadata": {},
     "output_type": "execute_result"
    }
   ],
   "source": [
    "\n",
    "env = StreamExecutionEnvironment.get_execution_environment()\n",
    "env_settings = EnvironmentSettings.Builder().build()\n",
    "t_env = StreamTableEnvironment.create(stream_execution_environment=env, environment_settings=env_settings)\n",
    "# specify connector and format jars\n",
    "# /home/krish/flink/lib/mysql-connector-java-8.0.29.jar\n",
    "\n",
    "t_env.get_config().get_configuration().set_string(\"pipeline.jars\", \"file:///opt/flink-1.15.0/lib/flink-connector-jdbc-1.15.0.jar;file:///opt/flink-1.15.0/lib/mysql-connector-java-8.0.29.jar\")\n"
   ]
  },
  {
   "cell_type": "code",
   "execution_count": 4,
   "id": "95431852-96d5-4b42-b9cd-0351a8131351",
   "metadata": {},
   "outputs": [],
   "source": [
    "\n",
    "jdbc_ddl=\"\"\"\n",
    "  CREATE TABLE table1 (\n",
    "        PersonID INT,\n",
    "        Name STRING\n",
    "  )\n",
    "  WITH (\n",
    "'connector' = 'jdbc',\n",
    "'url' = 'jdbc:mysql://localhost:3306/ecommerce?user=team&password=team1234',\n",
    "'table-name' = 'person'\n",
    ")\n",
    "\"\"\"\n",
    "\n",
    "jdbc_sink_ddl=\"\"\"\n",
    "  CREATE TABLE table2 (\n",
    "        PersonID INT,\n",
    "        Name STRING\n",
    "  )\n",
    "  WITH (\n",
    "'connector' = 'jdbc',\n",
    "'url' = 'jdbc:mysql://localhost:3306/ecommerce?user=team&password=team1234',\n",
    "'table-name' = 'person2'\n",
    ")\n",
    "\"\"\""
   ]
  },
  {
   "cell_type": "code",
   "execution_count": 5,
   "id": "7918639a-b8f3-4ece-84ea-70699d084e3c",
   "metadata": {},
   "outputs": [
    {
     "name": "stdout",
     "output_type": "stream",
     "text": [
      "OK\n",
      "OK\n"
     ]
    }
   ],
   "source": [
    "\n",
    "t_env.execute_sql(jdbc_ddl).print()\n",
    "\n",
    "t_env.execute_sql(jdbc_sink_ddl).print()"
   ]
  },
  {
   "cell_type": "code",
   "execution_count": 6,
   "id": "364ddd21-cb40-47c6-998a-86e5d0a2514e",
   "metadata": {},
   "outputs": [
    {
     "name": "stderr",
     "output_type": "stream",
     "text": [
      "Loading class `com.mysql.jdbc.Driver'. This is deprecated. The new driver class is `com.mysql.cj.jdbc.Driver'. The driver is automatically registered via the SPI and manual loading of the driver class is generally unnecessary.\n"
     ]
    },
    {
     "name": "stdout",
     "output_type": "stream",
     "text": [
      "-1\n"
     ]
    }
   ],
   "source": [
    "t_env.execute_sql(\"INSERT into table2 SELECT * FROM table1\" ).print()"
   ]
  },
  {
   "cell_type": "code",
   "execution_count": null,
   "id": "a590dae2-7343-425a-8ea3-fbfe519bf623",
   "metadata": {},
   "outputs": [],
   "source": []
  }
 ],
 "metadata": {
  "kernelspec": {
   "display_name": "Python 3 (ipykernel)",
   "language": "python",
   "name": "python3"
  },
  "language_info": {
   "codemirror_mode": {
    "name": "ipython",
    "version": 3
   },
   "file_extension": ".py",
   "mimetype": "text/x-python",
   "name": "python",
   "nbconvert_exporter": "python",
   "pygments_lexer": "ipython3",
   "version": "3.8.12"
  }
 },
 "nbformat": 4,
 "nbformat_minor": 5
}
