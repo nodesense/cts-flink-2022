{
 "cells": [
  {
   "cell_type": "code",
   "execution_count": 1,
   "id": "a33d442f-0b81-4207-8a14-25098dd38aa0",
   "metadata": {},
   "outputs": [],
   "source": [
    "\n",
    "import pandas as pd\n",
    "import numpy as np\n",
    "\n",
    "from pyflink.table import (DataTypes, TableEnvironment, EnvironmentSettings)\n"
   ]
  },
  {
   "cell_type": "code",
   "execution_count": 2,
   "id": "09dbc8b6-ce90-4bc5-8421-08a8baeea51e",
   "metadata": {},
   "outputs": [],
   "source": [
    "\n",
    "def conversion_from_dataframe():\n",
    "    t_env = TableEnvironment.create(EnvironmentSettings.in_streaming_mode())\n",
    "    t_env.get_config().set(\"parallelism.default\", \"1\")\n",
    "\n",
    "    # define the source with watermark definition\n",
    "    pdf = pd.DataFrame(np.random.rand(1000, 2))\n",
    "    table = t_env.from_pandas(\n",
    "        pdf,\n",
    "        schema=DataTypes.ROW([DataTypes.FIELD(\"a\", DataTypes.DOUBLE()),\n",
    "                              DataTypes.FIELD(\"b\", DataTypes.DOUBLE())]))\n",
    "\n",
    "    print(table.to_pandas())\n",
    "    "
   ]
  },
  {
   "cell_type": "code",
   "execution_count": 3,
   "id": "c54f8e8e-f49b-428c-a4b6-4fbe123b6303",
   "metadata": {},
   "outputs": [
    {
     "name": "stderr",
     "output_type": "stream",
     "text": [
      "/home/krish/flink-dev/lib/python3.8/site-packages/pyflink/table/utils.py:55: FutureWarning: Schema passed to names= option, please pass schema= explicitly. Will raise exception in future\n",
      "  return pa.RecordBatch.from_arrays(arrays, schema)\n"
     ]
    },
    {
     "name": "stdout",
     "output_type": "stream",
     "text": [
      "            a         b\n",
      "0    0.613047  0.462489\n",
      "1    0.376965  0.830363\n",
      "2    0.929878  0.459688\n",
      "3    0.207903  0.702804\n",
      "4    0.287268  0.961622\n",
      "..        ...       ...\n",
      "995  0.937821  0.292010\n",
      "996  0.583422  0.828182\n",
      "997  0.666262  0.903348\n",
      "998  0.136144  0.049525\n",
      "999  0.436812  0.195394\n",
      "\n",
      "[1000 rows x 2 columns]\n"
     ]
    }
   ],
   "source": [
    "conversion_from_dataframe()"
   ]
  },
  {
   "cell_type": "code",
   "execution_count": null,
   "id": "1a0b58ba-80be-4dea-bf46-45520a802e78",
   "metadata": {},
   "outputs": [],
   "source": []
  }
 ],
 "metadata": {
  "kernelspec": {
   "display_name": "Python 3 (ipykernel)",
   "language": "python",
   "name": "python3"
  },
  "language_info": {
   "codemirror_mode": {
    "name": "ipython",
    "version": 3
   },
   "file_extension": ".py",
   "mimetype": "text/x-python",
   "name": "python",
   "nbconvert_exporter": "python",
   "pygments_lexer": "ipython3",
   "version": "3.8.13"
  }
 },
 "nbformat": 4,
 "nbformat_minor": 5
}
