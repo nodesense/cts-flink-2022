{
 "cells": [
  {
   "cell_type": "code",
   "execution_count": 4,
   "id": "b280f193-6774-4499-99ca-1af4c4c3d6d3",
   "metadata": {},
   "outputs": [],
   "source": [
    "from pyflink.datastream import StreamExecutionEnvironment\n",
    "import json"
   ]
  },
  {
   "cell_type": "code",
   "execution_count": 5,
   "id": "c7ad44b1-7c9d-4253-adf4-6d5d1ff40174",
   "metadata": {},
   "outputs": [],
   "source": [
    "def process_json_data():\n",
    "    env = StreamExecutionEnvironment.get_execution_environment()\n",
    "\n",
    "    # define the source\n",
    "    ds = env.from_collection(\n",
    "        collection=[\n",
    "            (1, '{\"name\": \"Flink\", \"tel\": 123, \"addr\": {\"country\": \"Germany\", \"city\": \"Berlin\"}}'),\n",
    "            (2, '{\"name\": \"hello\", \"tel\": 135, \"addr\": {\"country\": \"China\", \"city\": \"Shanghai\"}}'),\n",
    "            (3, '{\"name\": \"world\", \"tel\": 124, \"addr\": {\"country\": \"USA\", \"city\": \"NewYork\"}}'),\n",
    "            (4, '{\"name\": \"PyFlink\", \"tel\": 32, \"addr\": {\"country\": \"China\", \"city\": \"Hangzhou\"}}')]\n",
    "    )\n",
    "\n",
    "    def update_tel(data):\n",
    "        # parse the json\n",
    "        json_data = json.loads(data[1])\n",
    "        json_data['tel'] += 1\n",
    "        return data[0], json_data\n",
    "\n",
    "    def filter_by_country(data):\n",
    "        # the json data could be accessed directly, there is no need to parse it again using\n",
    "        # json.loads\n",
    "        return \"China\" in data[1]['addr']['country']\n",
    "\n",
    "    ds.map(update_tel).filter(filter_by_country).print()\n",
    "\n",
    "    # submit for execution\n",
    "    env.execute()"
   ]
  },
  {
   "cell_type": "code",
   "execution_count": 6,
   "id": "7e21ff51-de48-484c-8d8f-0e8a6b8c8662",
   "metadata": {},
   "outputs": [
    {
     "name": "stdout",
     "output_type": "stream",
     "text": [
      "2> (4, {'name': 'PyFlink', 'tel': 33, 'addr': {'country': 'China', 'city': 'Hangzhou'}})\n",
      "4> (2, {'name': 'hello', 'tel': 136, 'addr': {'country': 'China', 'city': 'Shanghai'}})\n"
     ]
    }
   ],
   "source": [
    "process_json_data()\n"
   ]
  },
  {
   "cell_type": "code",
   "execution_count": null,
   "id": "13f2d45b-7ac2-4945-b9f4-74791b066c24",
   "metadata": {},
   "outputs": [],
   "source": []
  }
 ],
 "metadata": {
  "kernelspec": {
   "display_name": "Python 3 (ipykernel)",
   "language": "python",
   "name": "python3"
  },
  "language_info": {
   "codemirror_mode": {
    "name": "ipython",
    "version": 3
   },
   "file_extension": ".py",
   "mimetype": "text/x-python",
   "name": "python",
   "nbconvert_exporter": "python",
   "pygments_lexer": "ipython3",
   "version": "3.8.13"
  }
 },
 "nbformat": 4,
 "nbformat_minor": 5
}
