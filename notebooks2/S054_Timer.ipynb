{
 "cells": [
  {
   "cell_type": "code",
   "execution_count": 1,
   "id": "52da45dd-246b-44d2-8964-6199a5679769",
   "metadata": {},
   "outputs": [],
   "source": [
    "\n",
    "from pyflink.common import Time, WatermarkStrategy, Duration\n",
    "from pyflink.common.typeinfo import Types\n",
    "from pyflink.common.watermark_strategy import TimestampAssigner\n",
    "from pyflink.datastream import StreamExecutionEnvironment\n",
    "from pyflink.datastream.functions import KeyedProcessFunction, RuntimeContext\n",
    "from pyflink.datastream.state import ValueStateDescriptor, StateTtlConfig"
   ]
  },
  {
   "cell_type": "code",
   "execution_count": 2,
   "id": "ea45d3af-14c2-49d7-a330-8ab6e523d7e0",
   "metadata": {},
   "outputs": [],
   "source": [
    "\n",
    "class Sum(KeyedProcessFunction):\n",
    "\n",
    "    def __init__(self):\n",
    "        self.state = None\n",
    "\n",
    "    def open(self, runtime_context: RuntimeContext):\n",
    "        state_descriptor = ValueStateDescriptor(\"state\", Types.FLOAT())\n",
    "        state_ttl_config = StateTtlConfig \\\n",
    "            .new_builder(Time.seconds(1)) \\\n",
    "            .set_update_type(StateTtlConfig.UpdateType.OnReadAndWrite) \\\n",
    "            .disable_cleanup_in_background() \\\n",
    "            .build()\n",
    "        state_descriptor.enable_time_to_live(state_ttl_config)\n",
    "        self.state = runtime_context.get_state(state_descriptor)\n",
    "\n",
    "    def process_element(self, value, ctx: 'KeyedProcessFunction.Context'):\n",
    "        # retrieve the current count\n",
    "        current = self.state.value()\n",
    "        if current is None:\n",
    "            current = 0\n",
    "\n",
    "        # update the state's count\n",
    "        current += value[2]\n",
    "        self.state.update(current)\n",
    "\n",
    "        # register an event time timer 2 seconds later\n",
    "        ctx.timer_service().register_event_time_timer(ctx.timestamp() + 2000)\n",
    "\n",
    "    def on_timer(self, timestamp: int, ctx: 'KeyedProcessFunction.OnTimerContext'):\n",
    "        yield ctx.get_current_key(), self.state.value()\n"
   ]
  },
  {
   "cell_type": "code",
   "execution_count": 3,
   "id": "d78d46c8-d1c6-4ace-8a60-5f1ffa098db3",
   "metadata": {},
   "outputs": [],
   "source": [
    "\n",
    "class MyTimestampAssigner(TimestampAssigner):\n",
    "\n",
    "    def extract_timestamp(self, value, record_timestamp: int) -> int:\n",
    "        return int(value[0])"
   ]
  },
  {
   "cell_type": "code",
   "execution_count": 4,
   "id": "15c1c4ef-5413-4894-8150-df75af490fc6",
   "metadata": {},
   "outputs": [],
   "source": [
    "\n",
    "def event_timer_timer_demo():\n",
    "    env = StreamExecutionEnvironment.get_execution_environment()\n",
    "\n",
    "    ds = env.from_collection(\n",
    "        collection=[\n",
    "            (1000, 'Alice', 110.1),\n",
    "            (4000, 'Bob', 30.2),\n",
    "            (3000, 'Alice', 20.0),\n",
    "            (2000, 'Bob', 53.1),\n",
    "            (5000, 'Alice', 13.1),\n",
    "            (3000, 'Bob', 3.1),\n",
    "            (7000, 'Bob', 16.1),\n",
    "            (10000, 'Alice', 20.1)\n",
    "        ],\n",
    "        type_info=Types.TUPLE([Types.LONG(), Types.STRING(), Types.FLOAT()]))\n",
    "\n",
    "    ds = ds.assign_timestamps_and_watermarks(\n",
    "        WatermarkStrategy.for_bounded_out_of_orderness(Duration.of_seconds(2))\n",
    "                         .with_timestamp_assigner(MyTimestampAssigner()))\n",
    "\n",
    "    # apply the process function onto a keyed stream\n",
    "    ds.key_by(lambda value: value[1]) \\\n",
    "      .process(Sum()) \\\n",
    "      .print()\n",
    "\n",
    "    # submit for execution\n",
    "    env.execute()\n"
   ]
  },
  {
   "cell_type": "code",
   "execution_count": 5,
   "id": "435e1119-946b-4c87-9500-e4f5c68fdcf4",
   "metadata": {},
   "outputs": [
    {
     "name": "stdout",
     "output_type": "stream",
     "text": [
      "1> ('Bob', 102.49999237060547)\n",
      "1> ('Bob', 102.49999237060547)\n",
      "1> ('Bob', 102.49999237060547)\n",
      "2> ('Alice', 163.3000030517578)\n",
      "1> ('Bob', 102.49999237060547)\n",
      "2> ('Alice', 163.3000030517578)\n",
      "2> ('Alice', 163.3000030517578)\n",
      "2> ('Alice', 163.3000030517578)\n"
     ]
    }
   ],
   "source": [
    " event_timer_timer_demo()"
   ]
  },
  {
   "cell_type": "code",
   "execution_count": null,
   "id": "e4c4448d-f691-4e6a-9b9d-3dae9c5ece27",
   "metadata": {},
   "outputs": [],
   "source": []
  }
 ],
 "metadata": {
  "kernelspec": {
   "display_name": "Python 3 (ipykernel)",
   "language": "python",
   "name": "python3"
  },
  "language_info": {
   "codemirror_mode": {
    "name": "ipython",
    "version": 3
   },
   "file_extension": ".py",
   "mimetype": "text/x-python",
   "name": "python",
   "nbconvert_exporter": "python",
   "pygments_lexer": "ipython3",
   "version": "3.8.13"
  }
 },
 "nbformat": 4,
 "nbformat_minor": 5
}
