{
 "cells": [
  {
   "cell_type": "code",
   "execution_count": 1,
   "id": "ddb19e4b-1840-45d7-9939-08806317ca96",
   "metadata": {},
   "outputs": [],
   "source": [
    "from pyflink.table import (EnvironmentSettings, TableEnvironment, DataTypes)\n",
    "from pyflink.table.udf import udf"
   ]
  },
  {
   "cell_type": "code",
   "execution_count": 2,
   "id": "522d9824-b3cb-4d79-a651-81ff38550508",
   "metadata": {},
   "outputs": [],
   "source": [
    "\n",
    "def multi_sink():\n",
    "    t_env = TableEnvironment.create(EnvironmentSettings.in_streaming_mode())\n",
    "\n",
    "    table = t_env.from_elements(\n",
    "        elements=[(1, 'Hello'), (2, 'World'), (3, \"Flink\"), (4, \"PyFlink\")],\n",
    "        schema=['id', 'data'])\n",
    "\n",
    "    # define the sink tables\n",
    "    t_env.execute_sql(\"\"\"\n",
    "        CREATE TABLE first_sink (\n",
    "            id BIGINT,\n",
    "            data VARCHAR\n",
    "        ) WITH (\n",
    "            'connector' = 'print'\n",
    "        )\n",
    "    \"\"\")\n",
    "\n",
    "    t_env.execute_sql(\"\"\"\n",
    "        CREATE TABLE second_sink (\n",
    "            id BIGINT,\n",
    "            data VARCHAR\n",
    "        ) WITH (\n",
    "            'connector' = 'print'\n",
    "        )\n",
    "    \"\"\")\n",
    "\n",
    "    # create a statement set\n",
    "    statement_set = t_env.create_statement_set()\n",
    "\n",
    "    # emit the data with id <= 3 to the \"first_sink\" via sql statement\n",
    "    statement_set.add_insert_sql(\"INSERT INTO first_sink SELECT * FROM %s WHERE id <= 3\" % table)\n",
    "\n",
    "    # emit the data which contains \"Flink\" to the \"second_sink\"\n",
    "    @udf(result_type=DataTypes.BOOLEAN())\n",
    "    def contains_flink(data):\n",
    "        return \"Flink\" in data\n",
    "\n",
    "    second_table = table.where(contains_flink(table.data))\n",
    "    statement_set.add_insert(\"second_sink\", second_table)\n",
    "\n",
    "    # execute the statement set\n",
    "    # remove .wait if submitting to a remote cluster, refer to\n",
    "    # https://nightlies.apache.org/flink/flink-docs-stable/docs/dev/python/faq/#wait-for-jobs-to-finish-when-executing-jobs-in-mini-cluster\n",
    "    # for more details\n",
    "    statement_set.execute().wait()"
   ]
  },
  {
   "cell_type": "code",
   "execution_count": 3,
   "id": "a2eddeb5-58fc-477e-a1dd-268f2faab1a1",
   "metadata": {},
   "outputs": [
    {
     "name": "stdout",
     "output_type": "stream",
     "text": [
      "3> +I[1, Hello]\n",
      "3> +I[2, World]\n",
      "3> +I[3, Flink]\n",
      "3> +I[3, Flink]\n",
      "3> +I[4, PyFlink]\n"
     ]
    }
   ],
   "source": [
    "multi_sink()"
   ]
  },
  {
   "cell_type": "code",
   "execution_count": null,
   "id": "493a04a5-a421-445b-be0c-2df9e6d00a52",
   "metadata": {},
   "outputs": [],
   "source": []
  }
 ],
 "metadata": {
  "kernelspec": {
   "display_name": "Python 3 (ipykernel)",
   "language": "python",
   "name": "python3"
  },
  "language_info": {
   "codemirror_mode": {
    "name": "ipython",
    "version": 3
   },
   "file_extension": ".py",
   "mimetype": "text/x-python",
   "name": "python",
   "nbconvert_exporter": "python",
   "pygments_lexer": "ipython3",
   "version": "3.8.13"
  }
 },
 "nbformat": 4,
 "nbformat_minor": 5
}
