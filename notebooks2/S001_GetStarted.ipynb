{
 "cells": [
  {
   "cell_type": "code",
   "execution_count": 1,
   "id": "303fb223-f114-4b38-b7de-0cc3725cbcf5",
   "metadata": {},
   "outputs": [],
   "source": [
    "from pyflink.table import EnvironmentSettings, TableEnvironment\n",
    "# Shift + Enter to run the cell"
   ]
  },
  {
   "cell_type": "code",
   "execution_count": 2,
   "id": "b2350156-6e3b-46c6-a120-5818fe7b515d",
   "metadata": {},
   "outputs": [],
   "source": [
    "# create environment for batch mode \n",
    "env = EnvironmentSettings.in_batch_mode()\n",
    "\n",
    "#   create table environment\n",
    "table_env = TableEnvironment.create(env)"
   ]
  },
  {
   "cell_type": "code",
   "execution_count": 3,
   "id": "a752fed8-09a5-4695-8a59-6bafc1a28ab5",
   "metadata": {},
   "outputs": [],
   "source": [
    "# hardcoded data\n",
    "# [] - python type list, mutable - change\n",
    "# () = type  tuple, immutable - cannot change\n",
    "data = [ (\"Joe\", 28), (\"Mary\", 34), (\"Venkat\", 40) ] # 3 records\n",
    "columns = [\"name\", \"age\"]\n",
    "# create virtual table or view\n",
    "employee_table = table_env.from_elements(data, columns)"
   ]
  },
  {
   "cell_type": "code",
   "execution_count": 4,
   "id": "1f1b65da-5c0d-4306-8214-802e211c1b0e",
   "metadata": {},
   "outputs": [
    {
     "name": "stdout",
     "output_type": "stream",
     "text": [
      "(\n",
      "  `name` STRING,\n",
      "  `age` BIGINT\n",
      ")\n"
     ]
    }
   ],
   "source": [
    "# flink always works with structured data means data + meta data \n",
    "# meta data = schema , columns, data types etc\n",
    "\n",
    "# flink too infer schema\n",
    "# print schema\n",
    "employee_table.print_schema()"
   ]
  },
  {
   "cell_type": "code",
   "execution_count": 5,
   "id": "2a9d4fc6-213f-4a89-9664-b479e4df5232",
   "metadata": {},
   "outputs": [],
   "source": [
    "# pandas inbuilt, convert table data into pandas dataframe"
   ]
  },
  {
   "cell_type": "code",
   "execution_count": 6,
   "id": "dbf40f6c-ee51-4f73-bb7b-858210428773",
   "metadata": {},
   "outputs": [
    {
     "name": "stdout",
     "output_type": "stream",
     "text": [
      "before\n",
      "[]\n",
      "after register\n",
      "['employees2']\n"
     ]
    }
   ],
   "source": [
    "print(\"before\")\n",
    "print(table_env.list_tables())\n",
    "\n",
    "# now register virtual table as table for flink sql\n",
    "# employees2 shall be created in default cataglog, default database\n",
    "table_env.register_table(\"employees2\", employee_table)\n",
    "\n",
    "print (\"after register\")\n",
    "print(table_env.list_tables())"
   ]
  },
  {
   "cell_type": "code",
   "execution_count": 7,
   "id": "2a2529dc-3fab-4e9b-98f9-174b6d3c7da5",
   "metadata": {},
   "outputs": [
    {
     "name": "stdout",
     "output_type": "stream",
     "text": [
      "(\n",
      "  `name` STRING,\n",
      "  `age` BIGINT\n",
      ")\n"
     ]
    }
   ],
   "source": [
    "# now we can run queries in SQL syntax\n",
    "# virtual table2\n",
    "table2 = table_env.sql_query(\"SELECT name,age from employees2\")\n",
    "table2.print_schema()"
   ]
  },
  {
   "cell_type": "code",
   "execution_count": 8,
   "id": "2bf22ee1-fec2-4340-ba99-81e2d0d21283",
   "metadata": {},
   "outputs": [
    {
     "name": "stdout",
     "output_type": "stream",
     "text": [
      "(\n",
      "  `name` STRING,\n",
      "  `age` BIGINT\n",
      ")\n"
     ]
    },
    {
     "data": {
      "text/html": [
       "<div>\n",
       "<style scoped>\n",
       "    .dataframe tbody tr th:only-of-type {\n",
       "        vertical-align: middle;\n",
       "    }\n",
       "\n",
       "    .dataframe tbody tr th {\n",
       "        vertical-align: top;\n",
       "    }\n",
       "\n",
       "    .dataframe thead th {\n",
       "        text-align: right;\n",
       "    }\n",
       "</style>\n",
       "<table border=\"1\" class=\"dataframe\">\n",
       "  <thead>\n",
       "    <tr style=\"text-align: right;\">\n",
       "      <th></th>\n",
       "      <th>name</th>\n",
       "      <th>age</th>\n",
       "    </tr>\n",
       "  </thead>\n",
       "  <tbody>\n",
       "    <tr>\n",
       "      <th>0</th>\n",
       "      <td>Joe</td>\n",
       "      <td>28</td>\n",
       "    </tr>\n",
       "  </tbody>\n",
       "</table>\n",
       "</div>"
      ],
      "text/plain": [
       "  name  age\n",
       "0  Joe   28"
      ]
     },
     "execution_count": 8,
     "metadata": {},
     "output_type": "execute_result"
    }
   ],
   "source": [
    "# SQL API works with temp view, temp table, table registered in table environment\n",
    "table3 = table_env.sql_query(\"SELECT name,age FROM employees2 WHERE age <= 30\")\n",
    "table3.print_schema()\n",
    "table3.to_pandas() # last cell expression printed"
   ]
  },
  {
   "cell_type": "code",
   "execution_count": 9,
   "id": "d806b369-6e0c-44ca-b776-4926e67aff75",
   "metadata": {},
   "outputs": [
    {
     "name": "stdout",
     "output_type": "stream",
     "text": [
      "== Abstract Syntax Tree ==\n",
      "LogicalProject(name=[$0], age=[$1])\n",
      "+- LogicalFilter(condition=[<=($1, 30)])\n",
      "   +- LogicalTableScan(table=[[default_catalog, default_database, Unregistered_TableSource_770887563, source: [PythonInputFormatTableSource(name, age)]]])\n",
      "\n",
      "== Optimized Physical Plan ==\n",
      "Calc(select=[name, age], where=[<=(age, 30)])\n",
      "+- LegacyTableSourceScan(table=[[default_catalog, default_database, Unregistered_TableSource_770887563, source: [PythonInputFormatTableSource(name, age)]]], fields=[name, age])\n",
      "\n",
      "== Optimized Execution Plan ==\n",
      "Calc(select=[name, age], where=[(age <= 30)])\n",
      "+- LegacyTableSourceScan(table=[[default_catalog, default_database, Unregistered_TableSource_770887563, source: [PythonInputFormatTableSource(name, age)]]], fields=[name, age])\n",
      "\n"
     ]
    }
   ],
   "source": [
    "# SQL API also optimized\n",
    "print(table3.explain())"
   ]
  },
  {
   "cell_type": "code",
   "execution_count": 10,
   "id": "bc535068-665c-43ed-bdbc-15638dbbff31",
   "metadata": {},
   "outputs": [
    {
     "name": "stdout",
     "output_type": "stream",
     "text": [
      "== Abstract Syntax Tree ==\n",
      "LogicalTableScan(table=[[default_catalog, default_database, Unregistered_TableSource_770887563, source: [PythonInputFormatTableSource(name, age)]]])\n",
      "\n",
      "== Optimized Physical Plan ==\n",
      "LegacyTableSourceScan(table=[[default_catalog, default_database, Unregistered_TableSource_770887563, source: [PythonInputFormatTableSource(name, age)]]], fields=[name, age])\n",
      "\n",
      "== Optimized Execution Plan ==\n",
      "LegacyTableSourceScan(table=[[default_catalog, default_database, Unregistered_TableSource_770887563, source: [PythonInputFormatTableSource(name, age)]]], fields=[name, age])\n",
      "\n"
     ]
    }
   ],
   "source": [
    "print(employee_table.explain())"
   ]
  },
  {
   "cell_type": "code",
   "execution_count": 11,
   "id": "d61714ba-e199-435d-b5df-f90fab944842",
   "metadata": {},
   "outputs": [
    {
     "name": "stdout",
     "output_type": "stream",
     "text": [
      "+--------------------------------+----------------------+\n",
      "|                           name |                  age |\n",
      "+--------------------------------+----------------------+\n",
      "|                            Joe |                   28 |\n",
      "|                           Mary |                   34 |\n",
      "|                         Venkat |                   40 |\n",
      "+--------------------------------+----------------------+\n",
      "3 rows in set\n"
     ]
    },
    {
     "data": {
      "text/html": [
       "<div>\n",
       "<style scoped>\n",
       "    .dataframe tbody tr th:only-of-type {\n",
       "        vertical-align: middle;\n",
       "    }\n",
       "\n",
       "    .dataframe tbody tr th {\n",
       "        vertical-align: top;\n",
       "    }\n",
       "\n",
       "    .dataframe thead th {\n",
       "        text-align: right;\n",
       "    }\n",
       "</style>\n",
       "<table border=\"1\" class=\"dataframe\">\n",
       "  <thead>\n",
       "    <tr style=\"text-align: right;\">\n",
       "      <th></th>\n",
       "      <th>name</th>\n",
       "      <th>age</th>\n",
       "    </tr>\n",
       "  </thead>\n",
       "  <tbody>\n",
       "    <tr>\n",
       "      <th>0</th>\n",
       "      <td>Joe</td>\n",
       "      <td>28</td>\n",
       "    </tr>\n",
       "    <tr>\n",
       "      <th>1</th>\n",
       "      <td>Mary</td>\n",
       "      <td>34</td>\n",
       "    </tr>\n",
       "    <tr>\n",
       "      <th>2</th>\n",
       "      <td>Venkat</td>\n",
       "      <td>40</td>\n",
       "    </tr>\n",
       "  </tbody>\n",
       "</table>\n",
       "</div>"
      ],
      "text/plain": [
       "     name  age\n",
       "0     Joe   28\n",
       "1    Mary   34\n",
       "2  Venkat   40"
      ]
     },
     "execution_count": 11,
     "metadata": {},
     "output_type": "execute_result"
    }
   ],
   "source": [
    "# Table API using Python, typically good for unregistered tables/query results/temp views\n",
    "from pyflink.table.expressions import col\n",
    "\n",
    "# return temp view\n",
    "table4 = employee_table.select ( col(\"name\"), col(\"age\") )\n",
    "# in spark we have action methods, exeucte, to_pandas are  similar to action method\n",
    "table4.execute().print()\n",
    "table4.to_pandas()"
   ]
  },
  {
   "cell_type": "code",
   "execution_count": 12,
   "id": "9f8970dc-0da0-42bc-9c2e-79858ac804b5",
   "metadata": {},
   "outputs": [
    {
     "name": "stdout",
     "output_type": "stream",
     "text": [
      "+--------------------------------+----------------------+\n",
      "|                           name |                  age |\n",
      "+--------------------------------+----------------------+\n",
      "|                            Joe |                   28 |\n",
      "+--------------------------------+----------------------+\n",
      "1 row in set\n"
     ]
    }
   ],
   "source": [
    "# Table API\n",
    "result5 = employee_table.filter ( col (\"age\") <= 30)\n",
    "result5.execute().print()"
   ]
  },
  {
   "cell_type": "code",
   "execution_count": 13,
   "id": "95150a8a-5cd2-4578-a1f1-dcbae5677dbf",
   "metadata": {},
   "outputs": [
    {
     "name": "stdout",
     "output_type": "stream",
     "text": [
      "== Abstract Syntax Tree ==\n",
      "LogicalFilter(condition=[<=($1, 30)])\n",
      "+- LogicalTableScan(table=[[default_catalog, default_database, Unregistered_TableSource_770887563, source: [PythonInputFormatTableSource(name, age)]]])\n",
      "\n",
      "== Optimized Physical Plan ==\n",
      "Calc(select=[name, age], where=[<=(age, 30)])\n",
      "+- LegacyTableSourceScan(table=[[default_catalog, default_database, Unregistered_TableSource_770887563, source: [PythonInputFormatTableSource(name, age)]]], fields=[name, age])\n",
      "\n",
      "== Optimized Execution Plan ==\n",
      "Calc(select=[name, age], where=[(age <= 30)])\n",
      "+- LegacyTableSourceScan(table=[[default_catalog, default_database, Unregistered_TableSource_770887563, source: [PythonInputFormatTableSource(name, age)]]], fields=[name, age])\n",
      "\n"
     ]
    }
   ],
   "source": [
    "# Both Table API and SQL API are converted into Flink core before executing query\n",
    "print(result5.explain ()) # similar to spark explain extended\n",
    "\n",
    "# Abstract Syntax Tree , AST, compiler design\n",
    "# Logical in AST means, the plan as is, not optimized\n",
    "# read teh plan bottom up, bottom most one is executed first\n",
    "# a + b = infix\n",
    "# +ab = prefix\n",
    "# ab+ = postfix\n",
    "# result logical filter in prefix format <=($1, 30) <= is operator, 30 is filter value, $1 col name age\n",
    "\n",
    "# Optimized Physical Plan\n",
    "# flink optimize AST to execute faster based on cost model build without cluster size\n",
    "\n",
    " \n",
    "# == Optimized Execution Plan ==\n",
    "# final exeuction plan selected from optimized plans"
   ]
  },
  {
   "cell_type": "code",
   "execution_count": 14,
   "id": "86cbfaf2-9cb7-4f61-83c1-13594d47fb6f",
   "metadata": {},
   "outputs": [
    {
     "name": "stdout",
     "output_type": "stream",
     "text": [
      "+--------------------------------+----------------------+\n",
      "|                           name |                  age |\n",
      "+--------------------------------+----------------------+\n",
      "|                         Venkat |                   40 |\n",
      "+--------------------------------+----------------------+\n",
      "1 row in set\n"
     ]
    }
   ],
   "source": [
    "# we can use sql api or python api\n",
    "\n",
    "result6 = table_env.sql_query(\"SELECT * FROM employees2 WHERE name LIKE 'V%'  \")\n",
    "result6.execute().print()"
   ]
  },
  {
   "cell_type": "code",
   "execution_count": 15,
   "id": "f44f43cd-3849-4a08-9a28-04d60909fa53",
   "metadata": {},
   "outputs": [
    {
     "name": "stdout",
     "output_type": "stream",
     "text": [
      "+--------------------------------+----------------------+\n",
      "|                           name |                  age |\n",
      "+--------------------------------+----------------------+\n",
      "|                         Venkat |                   40 |\n",
      "+--------------------------------+----------------------+\n",
      "1 row in set\n"
     ]
    }
   ],
   "source": [
    "# table python api\n",
    "result7 = employee_table.where (col(\"name\").like(\"V%\"))\n",
    "result7.execute().print()"
   ]
  },
  {
   "cell_type": "code",
   "execution_count": 16,
   "id": "5ec9ed3b-77cf-401e-911b-74ece351ff0b",
   "metadata": {},
   "outputs": [
    {
     "name": "stdout",
     "output_type": "stream",
     "text": [
      "+--------------------------------+\n",
      "|                            _c0 |\n",
      "+--------------------------------+\n",
      "|                            JOE |\n",
      "|                           MARY |\n",
      "|                         VENKAT |\n",
      "+--------------------------------+\n",
      "3 rows in set\n"
     ]
    }
   ],
   "source": [
    "result8 = employee_table.select ( col(\"name\").upper_case)\n",
    "result8.execute().print()"
   ]
  },
  {
   "cell_type": "code",
   "execution_count": null,
   "id": "af75a922-9812-41e7-b412-2bde3cf698a1",
   "metadata": {},
   "outputs": [],
   "source": []
  }
 ],
 "metadata": {
  "kernelspec": {
   "display_name": "Python 3 (ipykernel)",
   "language": "python",
   "name": "python3"
  },
  "language_info": {
   "codemirror_mode": {
    "name": "ipython",
    "version": 3
   },
   "file_extension": ".py",
   "mimetype": "text/x-python",
   "name": "python",
   "nbconvert_exporter": "python",
   "pygments_lexer": "ipython3",
   "version": "3.8.13"
  }
 },
 "nbformat": 4,
 "nbformat_minor": 5
}
