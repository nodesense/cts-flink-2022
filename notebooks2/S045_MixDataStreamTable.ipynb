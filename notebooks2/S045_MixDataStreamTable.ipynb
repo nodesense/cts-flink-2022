{
 "cells": [
  {
   "cell_type": "code",
   "execution_count": 1,
   "id": "444a9152-60e3-41bc-9ae2-9bed5605b33f",
   "metadata": {},
   "outputs": [],
   "source": [
    "\n",
    "from pyflink.common import Types\n",
    "from pyflink.datastream import StreamExecutionEnvironment\n",
    "from pyflink.table import (DataTypes, TableDescriptor, Schema, StreamTableEnvironment)\n",
    "from pyflink.table.expressions import col\n",
    "from pyflink.table.udf import udf"
   ]
  },
  {
   "cell_type": "code",
   "execution_count": 2,
   "id": "a95e8440-5e5c-4981-8636-e43e0e06c0ca",
   "metadata": {},
   "outputs": [],
   "source": [
    "\n",
    "def mixing_use_of_datastream_and_table():\n",
    "    # use StreamTableEnvironment instead of TableEnvironment when mixing use of table & datastream\n",
    "    env = StreamExecutionEnvironment.get_execution_environment()\n",
    "    t_env = StreamTableEnvironment.create(stream_execution_environment=env)\n",
    "\n",
    "    # define the source\n",
    "    t_env.create_temporary_table(\n",
    "        'source',\n",
    "        TableDescriptor.for_connector('datagen')\n",
    "                       .schema(Schema.new_builder()\n",
    "                               .column('id', DataTypes.BIGINT())\n",
    "                               .column('data', DataTypes.STRING())\n",
    "                               .build())\n",
    "                       .option(\"number-of-rows\", \"10\")\n",
    "                       .build())\n",
    "\n",
    "    # define the sink\n",
    "    t_env.create_temporary_table(\n",
    "        'sink',\n",
    "        TableDescriptor.for_connector('print')\n",
    "                       .schema(Schema.new_builder()\n",
    "                               .column('a', DataTypes.BIGINT())\n",
    "                               .build())\n",
    "                       .build())\n",
    "\n",
    "    @udf(result_type=DataTypes.BIGINT())\n",
    "    def length(data):\n",
    "        return len(data)\n",
    "\n",
    "    # perform table api operations\n",
    "    table = t_env.from_path(\"source\")\n",
    "    table = table.select(col('id'), length(col('data')))\n",
    "\n",
    "    # convert table to datastream and perform datastream api operations\n",
    "    ds = t_env.to_data_stream(table)\n",
    "    ds = ds.map(lambda i: i[0] + i[1], output_type=Types.LONG())\n",
    "\n",
    "    # convert datastream to table and perform table api operations as you want\n",
    "    table = t_env.from_data_stream(\n",
    "        ds,\n",
    "        Schema.new_builder().column(\"f0\", DataTypes.BIGINT()).build())\n",
    "\n",
    "    # execute\n",
    "    table.execute_insert('sink') \\\n",
    "         .wait()\n",
    "    # remove .wait if submitting to a remote cluster, refer to\n",
    "    # https://nightlies.apache.org/flink/flink-docs-stable/docs/dev/python/faq/#wait-for-jobs-to-finish-when-executing-jobs-in-mini-cluster\n",
    "    # for more details\n"
   ]
  },
  {
   "cell_type": "code",
   "execution_count": 3,
   "id": "6d3b96f3-3b40-484b-b2c2-e8debf7ad1b7",
   "metadata": {},
   "outputs": [
    {
     "name": "stdout",
     "output_type": "stream",
     "text": [
      "2> +I[-4674160444308977755]\n",
      "2> +I[-3216646488221651312]\n",
      "2> +I[-5839594202457183104]\n",
      "1> +I[-6331463005102648867]\n",
      "1> +I[-5075457498632715727]\n",
      "1> +I[-2229617544269832232]\n",
      "4> +I[-7331264594802876497]\n",
      "4> +I[-104516378337137976]\n",
      "3> +I[-5250674592613494937]\n",
      "3> +I[896206917790742712]\n"
     ]
    }
   ],
   "source": [
    "mixing_use_of_datastream_and_table()"
   ]
  },
  {
   "cell_type": "code",
   "execution_count": null,
   "id": "2b9f2020-4fbc-4212-bb05-7140390c32a3",
   "metadata": {},
   "outputs": [],
   "source": []
  }
 ],
 "metadata": {
  "kernelspec": {
   "display_name": "Python 3 (ipykernel)",
   "language": "python",
   "name": "python3"
  },
  "language_info": {
   "codemirror_mode": {
    "name": "ipython",
    "version": 3
   },
   "file_extension": ".py",
   "mimetype": "text/x-python",
   "name": "python",
   "nbconvert_exporter": "python",
   "pygments_lexer": "ipython3",
   "version": "3.8.13"
  }
 },
 "nbformat": 4,
 "nbformat_minor": 5
}
