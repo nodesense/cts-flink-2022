{
 "cells": [
  {
   "cell_type": "code",
   "execution_count": 1,
   "id": "9a4a6dbb-629e-4cde-a5ac-3ce5afc9aea6",
   "metadata": {},
   "outputs": [],
   "source": [
    "# From flink source code example..\n",
    "\n",
    "from pyflink.common import Time\n",
    "from pyflink.common.typeinfo import Types\n",
    "from pyflink.datastream import StreamExecutionEnvironment\n",
    "from pyflink.datastream.functions import KeyedProcessFunction, RuntimeContext\n",
    "from pyflink.datastream.state import ValueStateDescriptor, StateTtlConfig"
   ]
  },
  {
   "cell_type": "code",
   "execution_count": 2,
   "id": "4fd6a6d8-36c8-44ee-beb9-555bd579e8b9",
   "metadata": {},
   "outputs": [],
   "source": [
    "\n",
    "class Sum(KeyedProcessFunction):\n",
    "\n",
    "    def __init__(self):\n",
    "        self.state = None\n",
    "\n",
    "    def open(self, runtime_context: RuntimeContext):\n",
    "        state_descriptor = ValueStateDescriptor(\"state\", Types.FLOAT())\n",
    "        state_ttl_config = StateTtlConfig \\\n",
    "            .new_builder(Time.seconds(1)) \\\n",
    "            .set_update_type(StateTtlConfig.UpdateType.OnReadAndWrite) \\\n",
    "            .disable_cleanup_in_background() \\\n",
    "            .build()\n",
    "        state_descriptor.enable_time_to_live(state_ttl_config)\n",
    "        self.state = runtime_context.get_state(state_descriptor)\n",
    "\n",
    "    def process_element(self, value, ctx: 'KeyedProcessFunction.Context'):\n",
    "        # retrieve the current count\n",
    "        current = self.state.value()\n",
    "        if current is None:\n",
    "            current = 0\n",
    "\n",
    "        # update the state's count\n",
    "        current += value[1]\n",
    "        self.state.update(current)\n",
    "\n",
    "        yield value[0], current\n",
    "\n"
   ]
  },
  {
   "cell_type": "code",
   "execution_count": 3,
   "id": "8de11484-479a-4dcd-8946-4b46a5ab45a4",
   "metadata": {},
   "outputs": [],
   "source": [
    "\n",
    "def state_access_demo():\n",
    "    env = StreamExecutionEnvironment.get_execution_environment()\n",
    "\n",
    "    ds = env.from_collection(\n",
    "        collection=[\n",
    "            ('Alice', 110.1),\n",
    "            ('Bob', 30.2),\n",
    "            ('Alice', 20.0),\n",
    "            ('Bob', 53.1),\n",
    "            ('Alice', 13.1),\n",
    "            ('Bob', 3.1),\n",
    "            ('Bob', 16.1),\n",
    "            ('Alice', 20.1)\n",
    "        ],\n",
    "        type_info=Types.TUPLE([Types.STRING(), Types.FLOAT()]))\n",
    "\n",
    "    # apply the process function onto a keyed stream\n",
    "    ds.key_by(lambda value: value[0]) \\\n",
    "      .process(Sum()) \\\n",
    "      .print()\n",
    "\n",
    "    # submit for execution\n",
    "    env.execute()\n",
    "\n"
   ]
  },
  {
   "cell_type": "code",
   "execution_count": 4,
   "id": "f761925e-602f-40a2-b5be-c9118b62efc0",
   "metadata": {},
   "outputs": [
    {
     "name": "stdout",
     "output_type": "stream",
     "text": [
      "1> ('Bob', 30.200000762939453)\n",
      "1> ('Bob', 83.29999923706055)\n",
      "1> ('Bob', 86.40000295639038)\n",
      "1> ('Bob', 102.50000190734863)\n",
      "2> ('Alice', 110.0999984741211)\n",
      "2> ('Alice', 130.0999984741211)\n",
      "2> ('Alice', 143.20000648498535)\n",
      "2> ('Alice', 163.30001258850098)\n"
     ]
    }
   ],
   "source": [
    "\n",
    "\n",
    "state_access_demo()"
   ]
  },
  {
   "cell_type": "code",
   "execution_count": null,
   "id": "a8ba41f9-42f2-4088-a8e3-773ec5519d1e",
   "metadata": {},
   "outputs": [],
   "source": []
  }
 ],
 "metadata": {
  "kernelspec": {
   "display_name": "Python 3 (ipykernel)",
   "language": "python",
   "name": "python3"
  },
  "language_info": {
   "codemirror_mode": {
    "name": "ipython",
    "version": 3
   },
   "file_extension": ".py",
   "mimetype": "text/x-python",
   "name": "python",
   "nbconvert_exporter": "python",
   "pygments_lexer": "ipython3",
   "version": "3.8.13"
  }
 },
 "nbformat": 4,
 "nbformat_minor": 5
}
