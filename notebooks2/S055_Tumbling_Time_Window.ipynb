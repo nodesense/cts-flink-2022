{
 "cells": [
  {
   "cell_type": "code",
   "execution_count": 6,
   "id": "52a56a62-7748-429c-90c5-a3ed3bac0fea",
   "metadata": {},
   "outputs": [
    {
     "ename": "ImportError",
     "evalue": "cannot import name 'TumblingEventTimeWindows' from 'pyflink.datastream.window' (/home/krish/flink-dev/lib/python3.8/site-packages/pyflink/datastream/window.py)",
     "output_type": "error",
     "traceback": [
      "\u001b[0;31m---------------------------------------------------------------------------\u001b[0m",
      "\u001b[0;31mImportError\u001b[0m                               Traceback (most recent call last)",
      "Cell \u001b[0;32mIn[6], line 5\u001b[0m\n\u001b[1;32m      3\u001b[0m \u001b[38;5;28;01mfrom\u001b[39;00m \u001b[38;5;21;01mpyflink\u001b[39;00m\u001b[38;5;21;01m.\u001b[39;00m\u001b[38;5;21;01mcommon\u001b[39;00m\u001b[38;5;21;01m.\u001b[39;00m\u001b[38;5;21;01mwatermark_strategy\u001b[39;00m \u001b[38;5;28;01mimport\u001b[39;00m TimestampAssigner\n\u001b[1;32m      4\u001b[0m \u001b[38;5;28;01mfrom\u001b[39;00m \u001b[38;5;21;01mpyflink\u001b[39;00m\u001b[38;5;21;01m.\u001b[39;00m\u001b[38;5;21;01mdatastream\u001b[39;00m \u001b[38;5;28;01mimport\u001b[39;00m StreamExecutionEnvironment, ProcessWindowFunction\n\u001b[0;32m----> 5\u001b[0m \u001b[38;5;28;01mfrom\u001b[39;00m \u001b[38;5;21;01mpyflink\u001b[39;00m\u001b[38;5;21;01m.\u001b[39;00m\u001b[38;5;21;01mdatastream\u001b[39;00m\u001b[38;5;21;01m.\u001b[39;00m\u001b[38;5;21;01mwindow\u001b[39;00m \u001b[38;5;28;01mimport\u001b[39;00m TumblingEventTimeWindows, TimeWindow\n",
      "\u001b[0;31mImportError\u001b[0m: cannot import name 'TumblingEventTimeWindows' from 'pyflink.datastream.window' (/home/krish/flink-dev/lib/python3.8/site-packages/pyflink/datastream/window.py)"
     ]
    }
   ],
   "source": [
    "from typing import Iterable\n",
    "from pyflink.common import Types, WatermarkStrategy, Time, Encoder\n",
    "from pyflink.common.watermark_strategy import TimestampAssigner\n",
    "from pyflink.datastream import StreamExecutionEnvironment, ProcessWindowFunction\n",
    "from pyflink.datastream.window import TumblingEventTimeWindows, TimeWindow\n"
   ]
  },
  {
   "cell_type": "code",
   "execution_count": 2,
   "id": "bbb61a46-93ef-479b-8886-c364cbe93838",
   "metadata": {},
   "outputs": [
    {
     "ename": "NameError",
     "evalue": "name 'TimestampAssigner' is not defined",
     "output_type": "error",
     "traceback": [
      "\u001b[0;31m---------------------------------------------------------------------------\u001b[0m",
      "\u001b[0;31mNameError\u001b[0m                                 Traceback (most recent call last)",
      "Cell \u001b[0;32mIn[2], line 1\u001b[0m\n\u001b[0;32m----> 1\u001b[0m \u001b[38;5;28;01mclass\u001b[39;00m \u001b[38;5;21;01mMyTimestampAssigner\u001b[39;00m(\u001b[43mTimestampAssigner\u001b[49m):\n\u001b[1;32m      2\u001b[0m     \u001b[38;5;28;01mdef\u001b[39;00m \u001b[38;5;21mextract_timestamp\u001b[39m(\u001b[38;5;28mself\u001b[39m, value, record_timestamp) \u001b[38;5;241m-\u001b[39m\u001b[38;5;241m>\u001b[39m \u001b[38;5;28mint\u001b[39m:\n\u001b[1;32m      3\u001b[0m         \u001b[38;5;28;01mreturn\u001b[39;00m \u001b[38;5;28mint\u001b[39m(value[\u001b[38;5;241m1\u001b[39m])\n",
      "\u001b[0;31mNameError\u001b[0m: name 'TimestampAssigner' is not defined"
     ]
    }
   ],
   "source": [
    "\n",
    "class MyTimestampAssigner(TimestampAssigner):\n",
    "    def extract_timestamp(self, value, record_timestamp) -> int:\n",
    "        return int(value[1])\n",
    "\n",
    "\n",
    "class CountWindowProcessFunction(ProcessWindowFunction[tuple, tuple, str, TimeWindow]):\n",
    "    def process(self,\n",
    "                key: str,\n",
    "                context: ProcessWindowFunction.Context[TimeWindow],\n",
    "                elements: Iterable[tuple]) -> Iterable[tuple]:\n",
    "        return [(key, context.window().start, context.window().end, len([e for e in elements]))]\n",
    "\n"
   ]
  },
  {
   "cell_type": "code",
   "execution_count": null,
   "id": "a3f37297-7848-41bf-b81d-047bc5758dc3",
   "metadata": {},
   "outputs": [],
   "source": []
  }
 ],
 "metadata": {
  "kernelspec": {
   "display_name": "Python 3 (ipykernel)",
   "language": "python",
   "name": "python3"
  },
  "language_info": {
   "codemirror_mode": {
    "name": "ipython",
    "version": 3
   },
   "file_extension": ".py",
   "mimetype": "text/x-python",
   "name": "python",
   "nbconvert_exporter": "python",
   "pygments_lexer": "ipython3",
   "version": "3.8.13"
  }
 },
 "nbformat": 4,
 "nbformat_minor": 5
}
