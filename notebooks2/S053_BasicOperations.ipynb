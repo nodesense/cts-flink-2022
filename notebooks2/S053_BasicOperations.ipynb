{
 "cells": [
  {
   "cell_type": "code",
   "execution_count": 4,
   "id": "01fecd6a-4e10-45bc-9c52-cc124190659c",
   "metadata": {},
   "outputs": [],
   "source": [
    "\n",
    "from pyflink.common import Types\n",
    "from pyflink.datastream import StreamExecutionEnvironment\n",
    "\n",
    "import json"
   ]
  },
  {
   "cell_type": "code",
   "execution_count": 2,
   "id": "c51b6e83-62b8-49b3-8fab-5b6efaad2c56",
   "metadata": {},
   "outputs": [],
   "source": [
    "\n",
    "def show(ds, env):\n",
    "    ds.print()\n",
    "    env.execute()\n"
   ]
  },
  {
   "cell_type": "code",
   "execution_count": 5,
   "id": "fdd36e4a-2293-4018-bedb-b5eb8b2035e1",
   "metadata": {},
   "outputs": [],
   "source": [
    "\n",
    "def basic_operations():\n",
    "    env = StreamExecutionEnvironment.get_execution_environment()\n",
    "    env.set_parallelism(1)\n",
    "\n",
    "    # define the source\n",
    "    ds = env.from_collection(\n",
    "        collection=[\n",
    "            (1, '{\"name\": \"Flink\", \"tel\": 123, \"addr\": {\"country\": \"Germany\", \"city\": \"Berlin\"}}'),\n",
    "            (2, '{\"name\": \"hello\", \"tel\": 135, \"addr\": {\"country\": \"China\", \"city\": \"Shanghai\"}}'),\n",
    "            (3, '{\"name\": \"world\", \"tel\": 124, \"addr\": {\"country\": \"USA\", \"city\": \"NewYork\"}}'),\n",
    "            (4, '{\"name\": \"PyFlink\", \"tel\": 32, \"addr\": {\"country\": \"China\", \"city\": \"Hangzhou\"}}')\n",
    "        ],\n",
    "        type_info=Types.ROW_NAMED([\"id\", \"info\"], [Types.INT(), Types.STRING()])\n",
    "    )\n",
    "\n",
    "    # map\n",
    "    def update_tel(data):\n",
    "        # parse the json\n",
    "        json_data = json.loads(data.info)\n",
    "        json_data['tel'] += 1\n",
    "        return data.id, json.dumps(json_data)\n",
    "\n",
    "    show(ds.map(update_tel), env)\n",
    "    # (1, '{\"name\": \"Flink\", \"tel\": 124, \"addr\": {\"country\": \"Germany\", \"city\": \"Berlin\"}}')\n",
    "    # (2, '{\"name\": \"hello\", \"tel\": 136, \"addr\": {\"country\": \"China\", \"city\": \"Shanghai\"}}')\n",
    "    # (3, '{\"name\": \"world\", \"tel\": 125, \"addr\": {\"country\": \"USA\", \"city\": \"NewYork\"}}')\n",
    "    # (4, '{\"name\": \"PyFlink\", \"tel\": 33, \"addr\": {\"country\": \"China\", \"city\": \"Hangzhou\"}}')\n",
    "\n",
    "    # filter\n",
    "    show(ds.filter(lambda data: data.id == 1).map(update_tel), env)\n",
    "    # (1, '{\"name\": \"Flink\", \"tel\": 124, \"addr\": {\"country\": \"Germany\", \"city\": \"Berlin\"}}')\n",
    "\n",
    "    # key by\n",
    "    show(ds.map(lambda data: (json.loads(data.info)['addr']['country'],\n",
    "                              json.loads(data.info)['tel']))\n",
    "           .key_by(lambda data: data[0]).sum(1), env)\n",
    "    # ('Germany', 123)\n",
    "    # ('China', 135)\n",
    "    # ('USA', 124)\n",
    "    # ('China', 167)"
   ]
  },
  {
   "cell_type": "code",
   "execution_count": 6,
   "id": "51e4066b-614d-4217-8bdd-6e0b5a3daf67",
   "metadata": {},
   "outputs": [
    {
     "name": "stdout",
     "output_type": "stream",
     "text": [
      "(1, '{\"name\": \"Flink\", \"tel\": 124, \"addr\": {\"country\": \"Germany\", \"city\": \"Berlin\"}}')\n",
      "(2, '{\"name\": \"hello\", \"tel\": 136, \"addr\": {\"country\": \"China\", \"city\": \"Shanghai\"}}')\n",
      "(3, '{\"name\": \"world\", \"tel\": 125, \"addr\": {\"country\": \"USA\", \"city\": \"NewYork\"}}')\n",
      "(4, '{\"name\": \"PyFlink\", \"tel\": 33, \"addr\": {\"country\": \"China\", \"city\": \"Hangzhou\"}}')\n",
      "(1, '{\"name\": \"Flink\", \"tel\": 124, \"addr\": {\"country\": \"Germany\", \"city\": \"Berlin\"}}')\n"
     ]
    },
    {
     "ename": "AttributeError",
     "evalue": "'KeyedStream' object has no attribute 'sum'",
     "output_type": "error",
     "traceback": [
      "\u001b[0;31m---------------------------------------------------------------------------\u001b[0m",
      "\u001b[0;31mAttributeError\u001b[0m                            Traceback (most recent call last)",
      "Cell \u001b[0;32mIn[6], line 1\u001b[0m\n\u001b[0;32m----> 1\u001b[0m \u001b[43mbasic_operations\u001b[49m\u001b[43m(\u001b[49m\u001b[43m)\u001b[49m\n",
      "Cell \u001b[0;32mIn[5], line 34\u001b[0m, in \u001b[0;36mbasic_operations\u001b[0;34m()\u001b[0m\n\u001b[1;32m     30\u001b[0m show(ds\u001b[38;5;241m.\u001b[39mfilter(\u001b[38;5;28;01mlambda\u001b[39;00m data: data\u001b[38;5;241m.\u001b[39mid \u001b[38;5;241m==\u001b[39m \u001b[38;5;241m1\u001b[39m)\u001b[38;5;241m.\u001b[39mmap(update_tel), env)\n\u001b[1;32m     31\u001b[0m \u001b[38;5;66;03m# (1, '{\"name\": \"Flink\", \"tel\": 124, \"addr\": {\"country\": \"Germany\", \"city\": \"Berlin\"}}')\u001b[39;00m\n\u001b[1;32m     32\u001b[0m \n\u001b[1;32m     33\u001b[0m \u001b[38;5;66;03m# key by\u001b[39;00m\n\u001b[0;32m---> 34\u001b[0m show(\u001b[43mds\u001b[49m\u001b[38;5;241;43m.\u001b[39;49m\u001b[43mmap\u001b[49m\u001b[43m(\u001b[49m\u001b[38;5;28;43;01mlambda\u001b[39;49;00m\u001b[43m \u001b[49m\u001b[43mdata\u001b[49m\u001b[43m:\u001b[49m\u001b[43m \u001b[49m\u001b[43m(\u001b[49m\u001b[43mjson\u001b[49m\u001b[38;5;241;43m.\u001b[39;49m\u001b[43mloads\u001b[49m\u001b[43m(\u001b[49m\u001b[43mdata\u001b[49m\u001b[38;5;241;43m.\u001b[39;49m\u001b[43minfo\u001b[49m\u001b[43m)\u001b[49m\u001b[43m[\u001b[49m\u001b[38;5;124;43m'\u001b[39;49m\u001b[38;5;124;43maddr\u001b[39;49m\u001b[38;5;124;43m'\u001b[39;49m\u001b[43m]\u001b[49m\u001b[43m[\u001b[49m\u001b[38;5;124;43m'\u001b[39;49m\u001b[38;5;124;43mcountry\u001b[39;49m\u001b[38;5;124;43m'\u001b[39;49m\u001b[43m]\u001b[49m\u001b[43m,\u001b[49m\n\u001b[1;32m     35\u001b[0m \u001b[43m                          \u001b[49m\u001b[43mjson\u001b[49m\u001b[38;5;241;43m.\u001b[39;49m\u001b[43mloads\u001b[49m\u001b[43m(\u001b[49m\u001b[43mdata\u001b[49m\u001b[38;5;241;43m.\u001b[39;49m\u001b[43minfo\u001b[49m\u001b[43m)\u001b[49m\u001b[43m[\u001b[49m\u001b[38;5;124;43m'\u001b[39;49m\u001b[38;5;124;43mtel\u001b[39;49m\u001b[38;5;124;43m'\u001b[39;49m\u001b[43m]\u001b[49m\u001b[43m)\u001b[49m\u001b[43m)\u001b[49m\n\u001b[1;32m     36\u001b[0m \u001b[43m       \u001b[49m\u001b[38;5;241;43m.\u001b[39;49m\u001b[43mkey_by\u001b[49m\u001b[43m(\u001b[49m\u001b[38;5;28;43;01mlambda\u001b[39;49;00m\u001b[43m \u001b[49m\u001b[43mdata\u001b[49m\u001b[43m:\u001b[49m\u001b[43m \u001b[49m\u001b[43mdata\u001b[49m\u001b[43m[\u001b[49m\u001b[38;5;241;43m0\u001b[39;49m\u001b[43m]\u001b[49m\u001b[43m)\u001b[49m\u001b[38;5;241;43m.\u001b[39;49m\u001b[43msum\u001b[49m(\u001b[38;5;241m1\u001b[39m), env)\n",
      "\u001b[0;31mAttributeError\u001b[0m: 'KeyedStream' object has no attribute 'sum'"
     ]
    }
   ],
   "source": [
    " basic_operations()"
   ]
  },
  {
   "cell_type": "code",
   "execution_count": null,
   "id": "bd443e7e-aab4-4b9b-9311-2d595a62b41e",
   "metadata": {},
   "outputs": [],
   "source": []
  }
 ],
 "metadata": {
  "kernelspec": {
   "display_name": "Python 3 (ipykernel)",
   "language": "python",
   "name": "python3"
  },
  "language_info": {
   "codemirror_mode": {
    "name": "ipython",
    "version": 3
   },
   "file_extension": ".py",
   "mimetype": "text/x-python",
   "name": "python",
   "nbconvert_exporter": "python",
   "pygments_lexer": "ipython3",
   "version": "3.8.13"
  }
 },
 "nbformat": 4,
 "nbformat_minor": 5
}
