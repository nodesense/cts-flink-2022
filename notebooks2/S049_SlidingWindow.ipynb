{
 "cells": [
  {
   "cell_type": "code",
   "execution_count": 1,
   "id": "fb317a43-43f9-4526-961c-48ae71ded41b",
   "metadata": {},
   "outputs": [],
   "source": [
    "from pyflink.common.time import Instant\n",
    "\n",
    "from pyflink.common import Types\n",
    "from pyflink.datastream import StreamExecutionEnvironment\n",
    "from pyflink.table import (DataTypes, TableDescriptor, Schema, StreamTableEnvironment)\n",
    "from pyflink.table.expressions import lit, col\n",
    "from pyflink.table.window import Slide"
   ]
  },
  {
   "cell_type": "code",
   "execution_count": 2,
   "id": "09c964ea-f624-4b66-ba47-f09f0f8cbac7",
   "metadata": {},
   "outputs": [],
   "source": [
    "\n",
    "def sliding_window_demo():\n",
    "    env = StreamExecutionEnvironment.get_execution_environment()\n",
    "    env.set_parallelism(1)\n",
    "    t_env = StreamTableEnvironment.create(stream_execution_environment=env)\n",
    "\n",
    "    # define the source with watermark definition\n",
    "    ds = env.from_collection(\n",
    "        collection=[\n",
    "            (Instant.of_epoch_milli(1000), 'Alice', 110.1),\n",
    "            (Instant.of_epoch_milli(4000), 'Bob', 30.2),\n",
    "            (Instant.of_epoch_milli(3000), 'Alice', 20.0),\n",
    "            (Instant.of_epoch_milli(2000), 'Bob', 53.1),\n",
    "            (Instant.of_epoch_milli(5000), 'Alice', 13.1),\n",
    "            (Instant.of_epoch_milli(3000), 'Bob', 3.1),\n",
    "            (Instant.of_epoch_milli(7000), 'Bob', 16.1),\n",
    "            (Instant.of_epoch_milli(10000), 'Alice', 20.1)\n",
    "        ],\n",
    "        type_info=Types.ROW([Types.INSTANT(), Types.STRING(), Types.FLOAT()]))\n",
    "\n",
    "    table = t_env.from_data_stream(\n",
    "        ds,\n",
    "        Schema.new_builder()\n",
    "              .column_by_expression(\"ts\", \"CAST(f0 AS TIMESTAMP(3))\")\n",
    "              .column(\"f1\", DataTypes.STRING())\n",
    "              .column(\"f2\", DataTypes.FLOAT())\n",
    "              .watermark(\"ts\", \"ts - INTERVAL '3' SECOND\")\n",
    "              .build()\n",
    "    ).alias(\"ts\", \"name\", \"price\")\n",
    "\n",
    "    # define the sink\n",
    "    t_env.create_temporary_table(\n",
    "        'sink',\n",
    "        TableDescriptor.for_connector('print')\n",
    "                       .schema(Schema.new_builder()\n",
    "                               .column('name', DataTypes.STRING())\n",
    "                               .column('total_price', DataTypes.FLOAT())\n",
    "                               .column('w_start', DataTypes.TIMESTAMP_LTZ())\n",
    "                               .column('w_end', DataTypes.TIMESTAMP_LTZ())\n",
    "                               .build())\n",
    "                       .build())\n",
    "\n",
    "    # define the sliding window operation\n",
    "    table = table.window(Slide.over(lit(5).seconds).every(lit(2).seconds).on(col(\"ts\")).alias(\"w\"))\\\n",
    "                 .group_by(col('name'), col('w')) \\\n",
    "                 .select(col('name'), col('price').sum, col(\"w\").start, col(\"w\").end)\n",
    "\n",
    "    # submit for execution\n",
    "    table.execute_insert('sink') \\\n",
    "         .wait()\n",
    "    # remove .wait if submitting to a remote cluster, refer to\n",
    "    # https://nightlies.apache.org/flink/flink-docs-stable/docs/dev/python/faq/#wait-for-jobs-to-finish-when-executing-jobs-in-mini-cluster\n",
    "    # for more details\n"
   ]
  },
  {
   "cell_type": "code",
   "execution_count": 3,
   "id": "57eceede-eb64-49c5-8d55-59afb82dc6f4",
   "metadata": {},
   "outputs": [
    {
     "name": "stdout",
     "output_type": "stream",
     "text": [
      "+I[Alice, 110.1, 1969-12-31T23:59:58Z, 1970-01-01T00:00:03Z]\n",
      "+I[Bob, 53.1, 1969-12-31T23:59:58Z, 1970-01-01T00:00:03Z]\n",
      "+I[Alice, 130.1, 1970-01-01T00:00:00Z, 1970-01-01T00:00:05Z]\n",
      "+I[Bob, 86.399994, 1970-01-01T00:00:00Z, 1970-01-01T00:00:05Z]\n",
      "+I[Bob, 86.399994, 1970-01-01T00:00:02Z, 1970-01-01T00:00:07Z]\n",
      "+I[Alice, 33.1, 1970-01-01T00:00:02Z, 1970-01-01T00:00:07Z]\n",
      "+I[Alice, 13.1, 1970-01-01T00:00:04Z, 1970-01-01T00:00:09Z]\n",
      "+I[Bob, 46.300003, 1970-01-01T00:00:04Z, 1970-01-01T00:00:09Z]\n",
      "+I[Bob, 16.1, 1970-01-01T00:00:06Z, 1970-01-01T00:00:11Z]\n",
      "+I[Alice, 20.1, 1970-01-01T00:00:06Z, 1970-01-01T00:00:11Z]\n",
      "+I[Alice, 20.1, 1970-01-01T00:00:08Z, 1970-01-01T00:00:13Z]\n",
      "+I[Alice, 20.1, 1970-01-01T00:00:10Z, 1970-01-01T00:00:15Z]\n"
     ]
    }
   ],
   "source": [
    " sliding_window_demo()"
   ]
  },
  {
   "cell_type": "code",
   "execution_count": null,
   "id": "0ea03a44-92c5-4b0c-be70-53689ecb3f6c",
   "metadata": {},
   "outputs": [],
   "source": []
  }
 ],
 "metadata": {
  "kernelspec": {
   "display_name": "Python 3 (ipykernel)",
   "language": "python",
   "name": "python3"
  },
  "language_info": {
   "codemirror_mode": {
    "name": "ipython",
    "version": 3
   },
   "file_extension": ".py",
   "mimetype": "text/x-python",
   "name": "python",
   "nbconvert_exporter": "python",
   "pygments_lexer": "ipython3",
   "version": "3.8.13"
  }
 },
 "nbformat": 4,
 "nbformat_minor": 5
}
