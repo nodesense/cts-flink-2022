{
 "cells": [
  {
   "cell_type": "code",
   "execution_count": 1,
   "id": "710ce1f6-915d-40f5-b097-a6088cf4147e",
   "metadata": {},
   "outputs": [],
   "source": [
    "from pyflink.table import (EnvironmentSettings, TableEnvironment, DataTypes, TableDescriptor,\n",
    "                           Schema)\n",
    "from pyflink.table.expressions import col"
   ]
  },
  {
   "cell_type": "code",
   "execution_count": 2,
   "id": "c7fa7cff-f30a-4e9b-ba88-fc1e91d7d063",
   "metadata": {},
   "outputs": [],
   "source": [
    "\n",
    "def process_json_data():\n",
    "    t_env = TableEnvironment.create(EnvironmentSettings.in_streaming_mode())\n",
    "\n",
    "    # define the source\n",
    "    table = t_env.from_elements(\n",
    "        elements=[\n",
    "            (1, '{\"name\": \"Flink\", \"tel\": 123, \"addr\": {\"country\": \"Germany\", \"city\": \"Berlin\"}}'),\n",
    "            (2, '{\"name\": \"hello\", \"tel\": 135, \"addr\": {\"country\": \"China\", \"city\": \"Shanghai\"}}'),\n",
    "            (3, '{\"name\": \"world\", \"tel\": 124, \"addr\": {\"country\": \"USA\", \"city\": \"NewYork\"}}'),\n",
    "            (4, '{\"name\": \"PyFlink\", \"tel\": 32, \"addr\": {\"country\": \"China\", \"city\": \"Hangzhou\"}}')\n",
    "        ],\n",
    "        schema=['id', 'data'])\n",
    "\n",
    "    # define the sink\n",
    "    t_env.create_temporary_table(\n",
    "        'sink',\n",
    "        TableDescriptor.for_connector('print')\n",
    "                       .schema(Schema.new_builder()\n",
    "                               .column('id', DataTypes.BIGINT())\n",
    "                               .column('data', DataTypes.STRING())\n",
    "                               .build())\n",
    "                       .build())\n",
    "\n",
    "    table = table.select(col('id'), col('data').json_value('$.addr.country', DataTypes.STRING()))\n",
    "\n",
    "    # execute\n",
    "    table.execute_insert('sink') \\\n",
    "         .wait()\n",
    "    # remove .wait if submitting to a remote cluster, refer to\n",
    "    # https://nightlies.apache.org/flink/flink-docs-stable/docs/dev/python/faq/#wait-for-jobs-to-finish-when-executing-jobs-in-mini-cluster\n",
    "    # for more details\n"
   ]
  },
  {
   "cell_type": "code",
   "execution_count": 3,
   "id": "f96b3909-2c96-4389-a378-69517d9b6101",
   "metadata": {},
   "outputs": [
    {
     "name": "stdout",
     "output_type": "stream",
     "text": [
      "3> +I[1, Germany]\n",
      "3> +I[2, China]\n",
      "3> +I[3, USA]\n",
      "3> +I[4, China]\n"
     ]
    }
   ],
   "source": [
    "process_json_data()\n"
   ]
  },
  {
   "cell_type": "code",
   "execution_count": null,
   "id": "ed9e1d9c-e94d-4515-86fb-02bac21c5a5a",
   "metadata": {},
   "outputs": [],
   "source": []
  }
 ],
 "metadata": {
  "kernelspec": {
   "display_name": "Python 3 (ipykernel)",
   "language": "python",
   "name": "python3"
  },
  "language_info": {
   "codemirror_mode": {
    "name": "ipython",
    "version": 3
   },
   "file_extension": ".py",
   "mimetype": "text/x-python",
   "name": "python",
   "nbconvert_exporter": "python",
   "pygments_lexer": "ipython3",
   "version": "3.8.13"
  }
 },
 "nbformat": 4,
 "nbformat_minor": 5
}
