{
 "cells": [
  {
   "cell_type": "code",
   "execution_count": 1,
   "id": "5efd8663-f989-48f4-9c65-8ee8e5c610a9",
   "metadata": {},
   "outputs": [],
   "source": [
    "\n",
    "\n",
    "from pyflink.common.time import Instant\n",
    "\n",
    "from pyflink.common import Types\n",
    "from pyflink.datastream import StreamExecutionEnvironment\n",
    "from pyflink.table import (DataTypes, TableDescriptor, Schema, StreamTableEnvironment)\n",
    "from pyflink.table.expressions import lit, col\n",
    "from pyflink.table.window import Session"
   ]
  },
  {
   "cell_type": "code",
   "execution_count": 2,
   "id": "2b195206-89ff-4c6f-935e-4349dbab277c",
   "metadata": {},
   "outputs": [],
   "source": [
    "\n",
    "\n",
    "def session_window_demo():\n",
    "    env = StreamExecutionEnvironment.get_execution_environment()\n",
    "    env.set_parallelism(1)\n",
    "    t_env = StreamTableEnvironment.create(stream_execution_environment=env)\n",
    "\n",
    "    # define the source with watermark definition\n",
    "    ds = env.from_collection(\n",
    "        collection=[\n",
    "            (Instant.of_epoch_milli(1000), 'Alice', 110.1),\n",
    "            (Instant.of_epoch_milli(4000), 'Bob', 30.2),\n",
    "            (Instant.of_epoch_milli(3000), 'Alice', 20.0),\n",
    "            (Instant.of_epoch_milli(2000), 'Bob', 53.1),\n",
    "            (Instant.of_epoch_milli(8000), 'Bob', 16.1),\n",
    "            (Instant.of_epoch_milli(10000), 'Alice', 20.1)\n",
    "        ],\n",
    "        type_info=Types.ROW([Types.INSTANT(), Types.STRING(), Types.FLOAT()]))\n",
    "\n",
    "    table = t_env.from_data_stream(\n",
    "        ds,\n",
    "        Schema.new_builder()\n",
    "              .column_by_expression(\"ts\", \"CAST(f0 AS TIMESTAMP(3))\")\n",
    "              .column(\"f1\", DataTypes.STRING())\n",
    "              .column(\"f2\", DataTypes.FLOAT())\n",
    "              .watermark(\"ts\", \"ts - INTERVAL '3' SECOND\")\n",
    "              .build()\n",
    "    ).alias(\"ts\", \"name\", \"price\")\n",
    "\n",
    "    # define the sink\n",
    "    t_env.create_temporary_table(\n",
    "        'sink',\n",
    "        TableDescriptor.for_connector('print')\n",
    "                       .schema(Schema.new_builder()\n",
    "                               .column('name', DataTypes.STRING())\n",
    "                               .column('total_price', DataTypes.FLOAT())\n",
    "                               .column('w_start', DataTypes.TIMESTAMP_LTZ())\n",
    "                               .column('w_end', DataTypes.TIMESTAMP_LTZ())\n",
    "                               .build())\n",
    "                       .build())\n",
    "\n",
    "    # define the session window operation\n",
    "    table = table.window(Session.with_gap(lit(5).seconds).on(col(\"ts\")).alias(\"w\")) \\\n",
    "                 .group_by(col('name'), col('w')) \\\n",
    "                 .select(col('name'), col('price').sum, col(\"w\").start, col(\"w\").end)\n",
    "\n",
    "    # submit for execution\n",
    "    table.execute_insert('sink') \\\n",
    "         .wait()\n",
    "    # remove .wait if submitting to a remote cluster, refer to\n",
    "    # https://nightlies.apache.org/flink/flink-docs-stable/docs/dev/python/faq/#wait-for-jobs-to-finish-when-executing-jobs-in-mini-cluster\n",
    "    # for more details\n"
   ]
  },
  {
   "cell_type": "code",
   "execution_count": 3,
   "id": "7a1e132b-f85b-4e27-8efc-bfd76a42b197",
   "metadata": {},
   "outputs": [
    {
     "name": "stdout",
     "output_type": "stream",
     "text": [
      "+I[Alice, 130.1, 1970-01-01T00:00:01Z, 1970-01-01T00:00:08Z]\n",
      "+I[Bob, 99.4, 1970-01-01T00:00:02Z, 1970-01-01T00:00:13Z]\n",
      "+I[Alice, 20.1, 1970-01-01T00:00:10Z, 1970-01-01T00:00:15Z]\n"
     ]
    }
   ],
   "source": [
    "session_window_demo()"
   ]
  },
  {
   "cell_type": "code",
   "execution_count": null,
   "id": "741cae77-cbc5-4f56-992f-89f589820340",
   "metadata": {},
   "outputs": [],
   "source": []
  }
 ],
 "metadata": {
  "kernelspec": {
   "display_name": "Python 3 (ipykernel)",
   "language": "python",
   "name": "python3"
  },
  "language_info": {
   "codemirror_mode": {
    "name": "ipython",
    "version": 3
   },
   "file_extension": ".py",
   "mimetype": "text/x-python",
   "name": "python",
   "nbconvert_exporter": "python",
   "pygments_lexer": "ipython3",
   "version": "3.8.13"
  }
 },
 "nbformat": 4,
 "nbformat_minor": 5
}
