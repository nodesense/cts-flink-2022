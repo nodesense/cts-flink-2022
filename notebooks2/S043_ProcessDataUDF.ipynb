{
 "cells": [
  {
   "cell_type": "code",
   "execution_count": 4,
   "id": "2badd3c5-e5b5-4894-83fa-b2baf97b5262",
   "metadata": {},
   "outputs": [],
   "source": [
    "from pyflink.table import (EnvironmentSettings, TableEnvironment, DataTypes, TableDescriptor,\n",
    "                           Schema)\n",
    "from pyflink.table.expressions import col\n",
    "from pyflink.table.udf import udf\n",
    "import json"
   ]
  },
  {
   "cell_type": "code",
   "execution_count": 5,
   "id": "2dc2a1f1-87b2-4582-aff9-00610e69a4f6",
   "metadata": {},
   "outputs": [],
   "source": [
    "def process_json_data_with_udf():\n",
    "    t_env = TableEnvironment.create(EnvironmentSettings.in_streaming_mode())\n",
    "\n",
    "    # define the source\n",
    "    table = t_env.from_elements(\n",
    "        elements=[\n",
    "            (1, '{\"name\": \"Flink\", \"tel\": 123, \"addr\": {\"country\": \"Germany\", \"city\": \"Berlin\"}}'),\n",
    "            (2, '{\"name\": \"hello\", \"tel\": 135, \"addr\": {\"country\": \"China\", \"city\": \"Shanghai\"}}'),\n",
    "            (3, '{\"name\": \"world\", \"tel\": 124, \"addr\": {\"country\": \"USA\", \"city\": \"NewYork\"}}'),\n",
    "            (4, '{\"name\": \"PyFlink\", \"tel\": 32, \"addr\": {\"country\": \"China\", \"city\": \"Hangzhou\"}}')\n",
    "        ],\n",
    "        schema=['id', 'data'])\n",
    "\n",
    "    # define the sink\n",
    "    t_env.create_temporary_table(\n",
    "        'sink',\n",
    "        TableDescriptor.for_connector('print')\n",
    "                       .schema(Schema.new_builder()\n",
    "                               .column('id', DataTypes.BIGINT())\n",
    "                               .column('data', DataTypes.STRING())\n",
    "                               .build())\n",
    "                       .build())\n",
    "\n",
    "    # update json columns\n",
    "    @udf(result_type=DataTypes.STRING())\n",
    "    def update_tel(data):\n",
    "        json_data = json.loads(data)\n",
    "        json_data['tel'] += 1\n",
    "        return json.dumps(json_data)\n",
    "\n",
    "    table = table.select(col('id'), update_tel(col('data')))\n",
    "\n",
    "    # execute\n",
    "    table.execute_insert('sink') \\\n",
    "         .wait()\n",
    "    # remove .wait if submitting to a remote cluster, refer to\n",
    "    # https://nightlies.apache.org/flink/flink-docs-stable/docs/dev/python/faq/#wait-for-jobs-to-finish-when-executing-jobs-in-mini-cluster\n",
    "    # for more details\n"
   ]
  },
  {
   "cell_type": "code",
   "execution_count": 6,
   "id": "4ed04463-7f40-4070-8f41-77e60ef6fbe8",
   "metadata": {},
   "outputs": [
    {
     "name": "stdout",
     "output_type": "stream",
     "text": [
      "1> +I[1, {\"name\": \"Flink\", \"tel\": 124, \"addr\": {\"country\": \"Germany\", \"city\": \"Berlin\"}}]\n",
      "1> +I[2, {\"name\": \"hello\", \"tel\": 136, \"addr\": {\"country\": \"China\", \"city\": \"Shanghai\"}}]\n",
      "1> +I[3, {\"name\": \"world\", \"tel\": 125, \"addr\": {\"country\": \"USA\", \"city\": \"NewYork\"}}]\n",
      "1> +I[4, {\"name\": \"PyFlink\", \"tel\": 33, \"addr\": {\"country\": \"China\", \"city\": \"Hangzhou\"}}]\n"
     ]
    }
   ],
   "source": [
    "process_json_data_with_udf()"
   ]
  },
  {
   "cell_type": "code",
   "execution_count": null,
   "id": "367397ba-be25-4ad7-a026-6f959170c540",
   "metadata": {},
   "outputs": [],
   "source": []
  }
 ],
 "metadata": {
  "kernelspec": {
   "display_name": "Python 3 (ipykernel)",
   "language": "python",
   "name": "python3"
  },
  "language_info": {
   "codemirror_mode": {
    "name": "ipython",
    "version": 3
   },
   "file_extension": ".py",
   "mimetype": "text/x-python",
   "name": "python",
   "nbconvert_exporter": "python",
   "pygments_lexer": "ipython3",
   "version": "3.8.13"
  }
 },
 "nbformat": 4,
 "nbformat_minor": 5
}
