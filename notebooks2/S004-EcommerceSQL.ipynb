{
 "cells": [
  {
   "cell_type": "code",
   "execution_count": 1,
   "id": "def7e853-6369-46b8-ad25-220359f39fe2",
   "metadata": {},
   "outputs": [],
   "source": [
    "from pyflink.table import EnvironmentSettings, TableEnvironment, DataTypes, CsvTableSource\n",
    "import datetime\n",
    "from pyflink.table.expressions import col\n",
    "from pyflink.table.window import Over, GroupWindow\n",
    "from pyflink.table.expressions import col, UNBOUNDED_RANGE, CURRENT_RANGE\n",
    "from pyflink.table.udf import udf\n",
    "# create a batch TableEnvironment\n",
    "env_settings = EnvironmentSettings.in_batch_mode()\n",
    "table_env = TableEnvironment.create(env_settings)\n",
    "#table_env.get_config().get_configuration().set_string(\"pipeline.jars\", \"file:///opt/flink-1.15.3/lib/flink-csv-1.15.3.jar;\")"
   ]
  },
  {
   "cell_type": "code",
   "execution_count": 2,
   "id": "9f6c935d-377d-4700-a152-76af1e334bb0",
   "metadata": {},
   "outputs": [
    {
     "name": "stdout",
     "output_type": "stream",
     "text": [
      "\n",
      "Registered Tables List\n",
      "['invoices']\n",
      "\n",
      "Financial Trxs Schema\n",
      "(\n",
      "  `InvoiceNo` STRING,\n",
      "  `StockCode` STRING,\n",
      "  `Description` STRING,\n",
      "  `Quantity` DOUBLE,\n",
      "  `InvoiceDate` TIMESTAMP(3),\n",
      "  `UnitPrice` DOUBLE,\n",
      "  `CustomerID` STRING,\n",
      "  `Country` STRING\n",
      ")\n"
     ]
    }
   ],
   "source": [
    "# InvoiceNo,StockCode,Description,Quantity,InvoiceDate,UnitPrice,CustomerID,Country\n",
    "# 536365,85123A,WHITE HANGING HEART T-LIGHT HOLDER,6,12/01/2010 8:26,2.55,17850,United Kingdom\n",
    "# create table in default catalog , default database\n",
    "source_ddl = \"\"\"\n",
    "            CREATE TABLE invoices (\n",
    "                   InvoiceNo STRING,\n",
    "                   StockCode  STRING,\n",
    "                   Description  STRING,\n",
    "                   Quantity DOUBLE,\n",
    "                   InvoiceDate TIMESTAMP(3),\n",
    "                   UnitPrice DOUBLE,\n",
    "                   CustomerID STRING,\n",
    "                   Country STRING\n",
    "\n",
    "                    ) WITH (\n",
    "                      'connector' = 'filesystem',          \n",
    "                      'path' = 'file:////home/krish/flink-dev/flink/data/ecommerce-clean.csv', \n",
    "                      'format' = 'csv'\n",
    "                    )\"\"\"\n",
    "\n",
    "\n",
    "table_env.execute_sql(source_ddl) \n",
    "\n",
    "# tabel view for python table api\n",
    "invoices = table_env.from_path(\"invoices\")\n",
    "##############################\n",
    "print('\\nRegistered Tables List')\n",
    "print(table_env.list_tables())\n",
    "\n",
    "print('\\nFinancial Trxs Schema')\n",
    "invoices.print_schema()"
   ]
  },
  {
   "cell_type": "code",
   "execution_count": 3,
   "id": "acda43ae-96c3-447b-bfb7-595d3fe5dbcf",
   "metadata": {},
   "outputs": [
    {
     "name": "stdout",
     "output_type": "stream",
     "text": [
      "+--------------------------------+--------------------------------+--------------------------------+--------------------------------+-------------------------+--------------------------------+--------------------------------+--------------------------------+\n",
      "|                      InvoiceNo |                      StockCode |                    Description |                       Quantity |             InvoiceDate |                      UnitPrice |                     CustomerID |                        Country |\n",
      "+--------------------------------+--------------------------------+--------------------------------+--------------------------------+-------------------------+--------------------------------+--------------------------------+--------------------------------+\n",
      "|                         536365 |                         85123A | WHITE HANGING HEART T-LIGHT... |                            6.0 | 2010-12-01 08:26:00.000 |                           2.55 |                          17850 |                 United Kingdom |\n",
      "|                         536365 |                          71053 |            WHITE METAL LANTERN |                            6.0 | 2010-12-01 08:26:00.000 |                           3.39 |                          17850 |                 United Kingdom |\n",
      "|                         536365 |                         84406B | CREAM CUPID HEARTS COAT HANGER |                            8.0 | 2010-12-01 08:26:00.000 |                           2.75 |                          17850 |                 United Kingdom |\n",
      "+--------------------------------+--------------------------------+--------------------------------+--------------------------------+-------------------------+--------------------------------+--------------------------------+--------------------------------+\n",
      "3 rows in set\n"
     ]
    }
   ],
   "source": [
    "invoices.fetch(3).execute().print()"
   ]
  },
  {
   "cell_type": "code",
   "execution_count": null,
   "id": "49ed4681-f33d-4f41-926e-52fda2baf1bb",
   "metadata": {},
   "outputs": [],
   "source": []
  }
 ],
 "metadata": {
  "kernelspec": {
   "display_name": "Python 3 (ipykernel)",
   "language": "python",
   "name": "python3"
  },
  "language_info": {
   "codemirror_mode": {
    "name": "ipython",
    "version": 3
   },
   "file_extension": ".py",
   "mimetype": "text/x-python",
   "name": "python",
   "nbconvert_exporter": "python",
   "pygments_lexer": "ipython3",
   "version": "3.8.13"
  }
 },
 "nbformat": 4,
 "nbformat_minor": 5
}
