{
 "cells": [
  {
   "cell_type": "code",
   "execution_count": 1,
   "id": "f9ba5f91-b5fe-4bf6-bbb6-f32889ab7952",
   "metadata": {},
   "outputs": [],
   "source": [
    "\n",
    "\n",
    "from pyflink.common.time import Instant\n",
    "\n",
    "from pyflink.common import Types\n",
    "from pyflink.datastream import StreamExecutionEnvironment\n",
    "from pyflink.table import (DataTypes, TableDescriptor, Schema, StreamTableEnvironment)\n",
    "from pyflink.table.expressions import col, row_interval, CURRENT_ROW\n",
    "from pyflink.table.window import Over\n"
   ]
  },
  {
   "cell_type": "code",
   "execution_count": 2,
   "id": "c6a2ff8a-bb4a-47af-ad02-0ccd679f11ae",
   "metadata": {},
   "outputs": [],
   "source": [
    "\n",
    "\n",
    "def tumble_window_demo():\n",
    "    env = StreamExecutionEnvironment.get_execution_environment()\n",
    "    env.set_parallelism(1)\n",
    "    t_env = StreamTableEnvironment.create(stream_execution_environment=env)\n",
    "\n",
    "    # define the source with watermark definition\n",
    "    ds = env.from_collection(\n",
    "        collection=[\n",
    "            (Instant.of_epoch_milli(1000), 'Alice', 110.1),\n",
    "            (Instant.of_epoch_milli(4000), 'Bob', 30.2),\n",
    "            (Instant.of_epoch_milli(3000), 'Alice', 20.0),\n",
    "            (Instant.of_epoch_milli(2000), 'Bob', 53.1),\n",
    "            (Instant.of_epoch_milli(5000), 'Alice', 13.1),\n",
    "            (Instant.of_epoch_milli(3000), 'Bob', 3.1),\n",
    "            (Instant.of_epoch_milli(7000), 'Bob', 16.1),\n",
    "            (Instant.of_epoch_milli(10000), 'Alice', 20.1)\n",
    "        ],\n",
    "        type_info=Types.ROW([Types.INSTANT(), Types.STRING(), Types.FLOAT()]))\n",
    "\n",
    "    table = t_env.from_data_stream(\n",
    "        ds,\n",
    "        Schema.new_builder()\n",
    "              .column_by_expression(\"ts\", \"CAST(f0 AS TIMESTAMP(3))\")\n",
    "              .column(\"f1\", DataTypes.STRING())\n",
    "              .column(\"f2\", DataTypes.FLOAT())\n",
    "              .watermark(\"ts\", \"ts - INTERVAL '3' SECOND\")\n",
    "              .build()\n",
    "    ).alias(\"ts\", \"name\", \"price\")\n",
    "\n",
    "    # define the sink\n",
    "    t_env.create_temporary_table(\n",
    "        'sink',\n",
    "        TableDescriptor.for_connector('print')\n",
    "                       .schema(Schema.new_builder()\n",
    "                               .column('name', DataTypes.STRING())\n",
    "                               .column('total_price', DataTypes.FLOAT())\n",
    "                               .build())\n",
    "                       .build())\n",
    "\n",
    "    # define the over window operation\n",
    "    table = table.over_window(\n",
    "        Over.partition_by(col(\"name\"))\n",
    "            .order_by(col(\"ts\"))\n",
    "            .preceding(row_interval(2))\n",
    "            .following(CURRENT_ROW)\n",
    "            .alias('w')) \\\n",
    "        .select(col('name'), col('price').max.over(col('w')))\n",
    "\n",
    "    # submit for execution\n",
    "    table.execute_insert('sink') \\\n",
    "         .wait()\n",
    "    # remove .wait if submitting to a remote cluster, refer to\n",
    "    # https://nightlies.apache.org/flink/flink-docs-stable/docs/dev/python/faq/#wait-for-jobs-to-finish-when-executing-jobs-in-mini-cluster\n",
    "    # for more details\n"
   ]
  },
  {
   "cell_type": "code",
   "execution_count": 3,
   "id": "01f7d239-93e3-4944-8569-1c62c808f1fa",
   "metadata": {},
   "outputs": [
    {
     "name": "stdout",
     "output_type": "stream",
     "text": [
      "+I[Alice, 110.1]\n",
      "+I[Bob, 53.1]\n",
      "+I[Alice, 110.1]\n",
      "+I[Bob, 53.1]\n",
      "+I[Bob, 53.1]\n",
      "+I[Alice, 110.1]\n",
      "+I[Bob, 30.2]\n",
      "+I[Alice, 20.1]\n"
     ]
    }
   ],
   "source": [
    "tumble_window_demo()"
   ]
  },
  {
   "cell_type": "code",
   "execution_count": null,
   "id": "ec273231-0986-4265-a09d-d2184118646b",
   "metadata": {},
   "outputs": [],
   "source": []
  }
 ],
 "metadata": {
  "kernelspec": {
   "display_name": "Python 3 (ipykernel)",
   "language": "python",
   "name": "python3"
  },
  "language_info": {
   "codemirror_mode": {
    "name": "ipython",
    "version": 3
   },
   "file_extension": ".py",
   "mimetype": "text/x-python",
   "name": "python",
   "nbconvert_exporter": "python",
   "pygments_lexer": "ipython3",
   "version": "3.8.13"
  }
 },
 "nbformat": 4,
 "nbformat_minor": 5
}
