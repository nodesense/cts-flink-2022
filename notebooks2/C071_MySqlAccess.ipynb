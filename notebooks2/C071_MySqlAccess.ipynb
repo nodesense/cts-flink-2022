{
 "cells": [
  {
   "cell_type": "code",
   "execution_count": null,
   "id": "9621704f-8f98-4db8-b6dc-ddf1bb286b01",
   "metadata": {},
   "outputs": [],
   "source": [
    "# wget  -P $FLINK_HOME/lib https://repo1.maven.org/maven2/mysql/mysql-connector-java/8.0.29/mysql-connector-java-8.0.29.jar\n",
    "# wget  -P $FLINK_HOME/lib https://repo1.maven.org/maven2/org/apache/flink/flink-connector-jdbc/1.15.3/flink-connector-jdbc-1.15.3.jar\n"
   ]
  },
  {
   "cell_type": "code",
   "execution_count": 1,
   "id": "873cba04-a21a-4781-af95-0f254b95fbc6",
   "metadata": {},
   "outputs": [],
   "source": [
    "from pyflink.datastream import StreamExecutionEnvironment, TimeCharacteristic\n",
    "from pyflink.table import StreamTableEnvironment, EnvironmentSettings\n",
    "from pyflink.common.typeinfo import *\n",
    "from pyflink.datastream import StreamExecutionEnvironment\n",
    "from pyflink.table import StreamTableEnvironment, EnvironmentSettings\n",
    "\n",
    "from pyflink.datastream import StreamExecutionEnvironment\n",
    "\n",
    "from pyflink.table import (\n",
    "    StreamTableEnvironment,\n",
    ")\n",
    "\n",
    "from pathlib import Path"
   ]
  },
  {
   "cell_type": "code",
   "execution_count": 2,
   "id": "c294f562-710e-47b1-9371-9b6030ea8d5d",
   "metadata": {},
   "outputs": [
    {
     "name": "stderr",
     "output_type": "stream",
     "text": [
      "SLF4J: Class path contains multiple SLF4J bindings.\n",
      "SLF4J: Found binding in [jar:file:/opt/flink-1.15.3/lib/log4j-slf4j-impl-2.17.1.jar!/org/slf4j/impl/StaticLoggerBinder.class]\n",
      "SLF4J: Found binding in [jar:file:/opt/hadoop-2.7.7/share/hadoop/common/lib/slf4j-log4j12-1.7.10.jar!/org/slf4j/impl/StaticLoggerBinder.class]\n",
      "SLF4J: See http://www.slf4j.org/codes.html#multiple_bindings for an explanation.\n",
      "SLF4J: Actual binding is of type [org.apache.logging.slf4j.Log4jLoggerFactory]\n"
     ]
    }
   ],
   "source": [
    "env = StreamExecutionEnvironment.get_execution_environment()\n",
    "env_settings = EnvironmentSettings.Builder().build()\n",
    "t_env = StreamTableEnvironment.create(stream_execution_environment=env, environment_settings=env_settings)\n",
    "# specify connector and format jars\n",
    "# /home/krish/flink/lib/mysql-connector-java-8.0.29.jar\n",
    "\n",
    "#t_env.get_config().get_configuration().set_string(\"pipeline.jars\", \"file:///opt/flink-1.15.3/lib/flink-connector-jdbc-1.15.3.jar;file:///opt/flink-1.15.3/lib/mysql-connector-java-8.0.29.jar\")"
   ]
  },
  {
   "cell_type": "code",
   "execution_count": 3,
   "id": "98aa768a-214d-49f3-8e38-fadf7275e727",
   "metadata": {},
   "outputs": [],
   "source": [
    "PRODUCT_DDL =\"\"\"\n",
    "  CREATE TABLE products (\n",
    "        id INT,\n",
    "        name STRING,\n",
    "        price INT\n",
    "  )\n",
    "  WITH (\n",
    "'connector' = 'jdbc',\n",
    "'url' = 'jdbc:mysql://localhost:3306/ecommerce?user=team&password=team1234',\n",
    "'table-name' = 'products'\n",
    ")\n",
    "\"\"\""
   ]
  },
  {
   "cell_type": "code",
   "execution_count": 4,
   "id": "bee1ed34-1033-48e4-9cca-8273787a0032",
   "metadata": {},
   "outputs": [
    {
     "name": "stdout",
     "output_type": "stream",
     "text": [
      "OK\n"
     ]
    }
   ],
   "source": [
    "t_env.execute_sql(PRODUCT_DDL).print()"
   ]
  },
  {
   "cell_type": "code",
   "execution_count": 5,
   "id": "3f212dec-9d70-4c0f-a279-98992742ccfe",
   "metadata": {},
   "outputs": [
    {
     "name": "stdout",
     "output_type": "stream",
     "text": [
      "['products']\n"
     ]
    }
   ],
   "source": [
    "print(t_env.list_tables())"
   ]
  },
  {
   "cell_type": "code",
   "execution_count": 6,
   "id": "e8552497-dd61-4d96-9fb9-4e19c8880d8f",
   "metadata": {},
   "outputs": [
    {
     "name": "stdout",
     "output_type": "stream",
     "text": [
      "(\n",
      "  `name` STRING,\n",
      "  `price` INT\n",
      ")\n"
     ]
    }
   ],
   "source": [
    "table2 = t_env.sql_query(\"SELECT name,price from products\")\n",
    "table2.print_schema()"
   ]
  },
  {
   "cell_type": "code",
   "execution_count": 7,
   "id": "aef071a4-94a6-48fe-99c6-50a41b79fdbc",
   "metadata": {},
   "outputs": [
    {
     "name": "stderr",
     "output_type": "stream",
     "text": [
      "Loading class `com.mysql.jdbc.Driver'. This is deprecated. The new driver class is `com.mysql.cj.jdbc.Driver'. The driver is automatically registered via the SPI and manual loading of the driver class is generally unnecessary.\n"
     ]
    },
    {
     "data": {
      "text/html": [
       "<div>\n",
       "<style scoped>\n",
       "    .dataframe tbody tr th:only-of-type {\n",
       "        vertical-align: middle;\n",
       "    }\n",
       "\n",
       "    .dataframe tbody tr th {\n",
       "        vertical-align: top;\n",
       "    }\n",
       "\n",
       "    .dataframe thead th {\n",
       "        text-align: right;\n",
       "    }\n",
       "</style>\n",
       "<table border=\"1\" class=\"dataframe\">\n",
       "  <thead>\n",
       "    <tr style=\"text-align: right;\">\n",
       "      <th></th>\n",
       "      <th>name</th>\n",
       "      <th>price</th>\n",
       "    </tr>\n",
       "  </thead>\n",
       "  <tbody>\n",
       "    <tr>\n",
       "      <th>0</th>\n",
       "      <td>product1</td>\n",
       "      <td>100</td>\n",
       "    </tr>\n",
       "    <tr>\n",
       "      <th>1</th>\n",
       "      <td>product2</td>\n",
       "      <td>200</td>\n",
       "    </tr>\n",
       "    <tr>\n",
       "      <th>2</th>\n",
       "      <td>product3</td>\n",
       "      <td>300</td>\n",
       "    </tr>\n",
       "    <tr>\n",
       "      <th>3</th>\n",
       "      <td>product4</td>\n",
       "      <td>400</td>\n",
       "    </tr>\n",
       "  </tbody>\n",
       "</table>\n",
       "</div>"
      ],
      "text/plain": [
       "       name  price\n",
       "0  product1    100\n",
       "1  product2    200\n",
       "2  product3    300\n",
       "3  product4    400"
      ]
     },
     "execution_count": 7,
     "metadata": {},
     "output_type": "execute_result"
    }
   ],
   "source": [
    "table2.to_pandas() "
   ]
  },
  {
   "cell_type": "code",
   "execution_count": 8,
   "id": "08dce848-023f-4373-bcf0-3c8beed59c46",
   "metadata": {},
   "outputs": [
    {
     "name": "stdout",
     "output_type": "stream",
     "text": [
      "+----+--------------------------------+-------------+\n",
      "| op |                           name |       price |\n",
      "+----+--------------------------------+-------------+\n",
      "| +I |                       product1 |         100 |\n",
      "| +I |                       product2 |         200 |\n",
      "| +I |                       product3 |         300 |\n",
      "| +I |                       product4 |         400 |\n",
      "+----+--------------------------------+-------------+\n",
      "4 rows in set\n"
     ]
    }
   ],
   "source": [
    "table2.execute().print()"
   ]
  },
  {
   "cell_type": "code",
   "execution_count": null,
   "id": "1b4169bf-732a-451c-8c10-588d3b308b91",
   "metadata": {},
   "outputs": [],
   "source": []
  }
 ],
 "metadata": {
  "kernelspec": {
   "display_name": "Python 3 (ipykernel)",
   "language": "python",
   "name": "python3"
  },
  "language_info": {
   "codemirror_mode": {
    "name": "ipython",
    "version": 3
   },
   "file_extension": ".py",
   "mimetype": "text/x-python",
   "name": "python",
   "nbconvert_exporter": "python",
   "pygments_lexer": "ipython3",
   "version": "3.8.13"
  }
 },
 "nbformat": 4,
 "nbformat_minor": 5
}
