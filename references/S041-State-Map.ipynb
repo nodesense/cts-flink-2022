{
 "cells": [
  {
   "cell_type": "code",
   "execution_count": 1,
   "id": "3a8295c0-328b-4543-aa13-2ea68194d5e8",
   "metadata": {},
   "outputs": [],
   "source": [
    "from pyflink.common import WatermarkStrategy, Row\n",
    "from pyflink.common.typeinfo import Types\n",
    "from pyflink.datastream import StreamExecutionEnvironment\n",
    "from pyflink.datastream.connectors import NumberSequenceSource\n",
    "from pyflink.datastream.functions import RuntimeContext, MapFunction\n",
    "from pyflink.datastream.state import ValueStateDescriptor"
   ]
  },
  {
   "cell_type": "code",
   "execution_count": 2,
   "id": "8fa6e5f0-d385-48f3-9bea-3d90f136e2e9",
   "metadata": {},
   "outputs": [
    {
     "name": "stderr",
     "output_type": "stream",
     "text": [
      "SLF4J: Class path contains multiple SLF4J bindings.\n",
      "SLF4J: Found binding in [jar:file:/opt/flink-1.15.0/lib/log4j-slf4j-impl-2.17.1.jar!/org/slf4j/impl/StaticLoggerBinder.class]\n",
      "SLF4J: Found binding in [jar:file:/opt/hadoop-2.7.7/share/hadoop/common/lib/slf4j-log4j12-1.7.10.jar!/org/slf4j/impl/StaticLoggerBinder.class]\n",
      "SLF4J: See http://www.slf4j.org/codes.html#multiple_bindings for an explanation.\n",
      "SLF4J: Actual binding is of type [org.apache.logging.slf4j.Log4jLoggerFactory]\n"
     ]
    }
   ],
   "source": [
    "#1. Create streamexecutionenvironment\n",
    "env = StreamExecutionEnvironment.get_execution_environment()"
   ]
  },
  {
   "cell_type": "code",
   "execution_count": 6,
   "id": "a0ca9ed3-f153-4181-a6c7-75b360b3c5d6",
   "metadata": {},
   "outputs": [],
   "source": [
    "\n",
    "class MyMapFunction(MapFunction):\n",
    "\n",
    "    def open(self, runtime_context: RuntimeContext):\n",
    "        print(\"MyMapFunction open\")\n",
    "        state_desc = ValueStateDescriptor('cnt', Types.LONG())\n",
    "        #Define value state\n",
    "        self.cnt_state = runtime_context.get_state(state_desc)\n",
    "        print (\"Count state is \", self.cnt_state)\n",
    "        \n",
    "\n",
    "    def map(self, value):\n",
    "        \n",
    "        cnt = self.cnt_state.value()\n",
    "        print(\"MyMapFunction map\", cnt)\n",
    "        if cnt is None:\n",
    "            cnt = 0\n",
    "\n",
    "        new_cnt = cnt + 1\n",
    "        self.cnt_state.update(new_cnt)\n",
    "        return value[0], new_cnt"
   ]
  },
  {
   "cell_type": "code",
   "execution_count": 3,
   "id": "7ac13ed2-00fb-4501-8996-6808b88852ec",
   "metadata": {},
   "outputs": [],
   "source": [
    "#2. Create data source\n",
    "seq_num_source = NumberSequenceSource(1, 10)"
   ]
  },
  {
   "cell_type": "code",
   "execution_count": 4,
   "id": "a87ded01-c580-4859-886d-a462c1162e97",
   "metadata": {},
   "outputs": [],
   "source": [
    "ds = env.from_source(\n",
    "    source=seq_num_source,\n",
    "    watermark_strategy=WatermarkStrategy.for_monotonous_timestamps(),\n",
    "    source_name='seq_num_source',\n",
    "    type_info=Types.LONG())"
   ]
  },
  {
   "cell_type": "code",
   "execution_count": 7,
   "id": "e3983bd0-4690-4435-90f4-a31f4ba08ea1",
   "metadata": {},
   "outputs": [],
   "source": [
    "\n",
    "#3. Define execution logic\n",
    "ds = ds.map(lambda a: Row(a % 4, 1), output_type=Types.ROW([Types.LONG(), Types.LONG()])) \\\n",
    "       .key_by(lambda a: a[0]) \\\n",
    "       .map(MyMapFunction(), output_type=Types.TUPLE([Types.LONG(), Types.LONG()]))\n"
   ]
  },
  {
   "cell_type": "code",
   "execution_count": 8,
   "id": "97f6193e-4227-46a4-88d3-bf519dbfcc05",
   "metadata": {},
   "outputs": [
    {
     "data": {
      "text/plain": [
       "<pyflink.datastream.data_stream.DataStreamSink at 0x7f093b29a070>"
      ]
     },
     "execution_count": 8,
     "metadata": {},
     "output_type": "execute_result"
    }
   ],
   "source": [
    "#4. Print the result data\n",
    "ds.print()"
   ]
  },
  {
   "cell_type": "code",
   "execution_count": 9,
   "id": "70153791-8420-4edb-840e-5bd0ccb9b67c",
   "metadata": {},
   "outputs": [
    {
     "name": "stdout",
     "output_type": "stream",
     "text": [
      "MyMapFunction open\n",
      "Count state is  <pyflink.fn_execution.state_impl.SynchronousValueRuntimeState object at 0x7f093aeccaf0>\n",
      "MyMapFunction open\n",
      "Count state is  <pyflink.fn_execution.state_impl.SynchronousValueRuntimeState object at 0x7f093aed2f70>\n",
      "MyMapFunction open\n",
      "Count state is  <pyflink.fn_execution.state_impl.SynchronousValueRuntimeState object at 0x7f093aeeb070>\n",
      "MyMapFunction map None\n",
      "MyMapFunction map 1\n",
      "MyMapFunction map 2\n",
      "MyMapFunction map None\n",
      "MyMapFunction map None\n",
      "MyMapFunction map 1\n",
      "MyMapFunction map 2\n",
      "MyMapFunction map 1\n",
      "MyMapFunction map None\n",
      "MyMapFunction map 1\n",
      "2> (1,1)\n",
      "2> (1,2)\n",
      "2> (1,3)\n",
      "3> (3,1)\n",
      "3> (3,2)\n",
      "1> (0,1)\n",
      "1> (2,1)\n",
      "1> (2,2)\n",
      "1> (2,3)\n",
      "1> (0,2)\n"
     ]
    },
    {
     "data": {
      "text/plain": [
       "<pyflink.common.job_execution_result.JobExecutionResult at 0x7f093af1e4c0>"
      ]
     },
     "execution_count": 9,
     "metadata": {},
     "output_type": "execute_result"
    }
   ],
   "source": [
    "\n",
    "#5. Perform the operation\n",
    "env.execute()"
   ]
  },
  {
   "cell_type": "code",
   "execution_count": null,
   "id": "cec3427b-b241-4264-8275-e41ab6e2b0ba",
   "metadata": {},
   "outputs": [],
   "source": []
  },
  {
   "cell_type": "code",
   "execution_count": null,
   "id": "990dce95-7521-48c9-9113-a0e6b1250069",
   "metadata": {},
   "outputs": [],
   "source": []
  }
 ],
 "metadata": {
  "kernelspec": {
   "display_name": "Python 3 (ipykernel)",
   "language": "python",
   "name": "python3"
  },
  "language_info": {
   "codemirror_mode": {
    "name": "ipython",
    "version": 3
   },
   "file_extension": ".py",
   "mimetype": "text/x-python",
   "name": "python",
   "nbconvert_exporter": "python",
   "pygments_lexer": "ipython3",
   "version": "3.8.12"
  }
 },
 "nbformat": 4,
 "nbformat_minor": 5
}
