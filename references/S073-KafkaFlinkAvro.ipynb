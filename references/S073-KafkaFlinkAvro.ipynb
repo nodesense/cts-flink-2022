{
 "cells": [
  {
   "cell_type": "code",
   "execution_count": 1,
   "id": "540a8e65-3798-4c2b-8831-24fe9607b1f8",
   "metadata": {},
   "outputs": [
    {
     "name": "stderr",
     "output_type": "stream",
     "text": [
      "SLF4J: Class path contains multiple SLF4J bindings.\n",
      "SLF4J: Found binding in [jar:file:/opt/flink-1.15.0/lib/log4j-slf4j-impl-2.17.1.jar!/org/slf4j/impl/StaticLoggerBinder.class]\n",
      "SLF4J: Found binding in [jar:file:/opt/hadoop-2.7.7/share/hadoop/common/lib/slf4j-log4j12-1.7.10.jar!/org/slf4j/impl/StaticLoggerBinder.class]\n",
      "SLF4J: See http://www.slf4j.org/codes.html#multiple_bindings for an explanation.\n",
      "SLF4J: Actual binding is of type [org.apache.logging.slf4j.Log4jLoggerFactory]\n"
     ]
    },
    {
     "data": {
      "text/plain": [
       "<pyflink.table.table_config.TableConfig at 0x7f5a50cb1100>"
      ]
     },
     "execution_count": 1,
     "metadata": {},
     "output_type": "execute_result"
    }
   ],
   "source": [
    "from pyflink.table import TableEnvironment, EnvironmentSettings\n",
    "\n",
    "env_settings = EnvironmentSettings.in_streaming_mode()\n",
    "t_env = TableEnvironment.create(env_settings)\n",
    "\n",
    "# specify connector and format jars\n",
    "t_env.get_config().set(\"pipeline.jars\", \"file:///opt/flink-1.15.0/lib/flink-sql-connector-kafka-1.15.0.jar;file:///opt/flink-1.15.0/lib/flink-sql-avro-confluent-registry-1.15.0.jar;file:///opt/flink-1.15.0/lib/flink-sql-avro-1.15.0.jar\")\n",
    "    "
   ]
  },
  {
   "cell_type": "code",
   "execution_count": 2,
   "id": "8503d529-e4cc-499a-af1b-98ffa10cd0b6",
   "metadata": {},
   "outputs": [],
   "source": [
    "# wget -P $FLINK_HOME/lib https://repo1.maven.org/maven2/org/apache/flink/flink-sql-avro-confluent-registry/1.15.0/flink-sql-avro-confluent-registry-1.15.0.jar\n",
    "# wget -P $FLINK_HOME/lib https://repo1.maven.org/maven2/org/apache/flink/flink-sql-avro/1.15.0/flink-sql-avro-1.15.0.jar\n",
    "\n",
    "# kafka-avro-console-producer --broker-list localhost:9092 --topic products   --property value.schema='{\"type\":\"record\",\"name\":\"product\",\"fields\":[{\"name\":\"name\",\"type\":\"string\"},{\"name\":\"price\",\"type\":\"int\"}]}'\n",
    "\n",
    "# {\"name\":\"iphone\", \"price\" : 100}\n",
    "\n",
    "#     kafka-topics  --create --bootstrap-server localhost:9092 --replication-factor 1 --partitions 1 --topic products_sink_topic\n",
    "#     kafka-console-consumer --bootstrap-server localhost:9092 --topic  sink_topic  --from-beginning  \n"
   ]
  },
  {
   "cell_type": "code",
   "execution_count": 3,
   "id": "820061d7-ced8-4bfa-a7b1-5d636e41fe5a",
   "metadata": {},
   "outputs": [],
   "source": [
    "source_ddl = \"\"\"\n",
    "       CREATE TABLE products (\n",
    "        name STRING,\n",
    "        price INTEGER\n",
    "        ) WITH (\n",
    "            'connector' = 'kafka',\n",
    "            'topic' = 'products',\n",
    "            'properties.bootstrap.servers' = 'localhost:9092',\n",
    "            'properties.group.id' = 'testGroup3',\n",
    "            'scan.startup.mode' = 'latest-offset',\n",
    "            'properties.auto.offset.reset' = 'latest',\n",
    "            'value.format' = 'avro-confluent',\n",
    "            'value.avro-confluent.schema-registry.url' = 'http://localhost:8081',\n",
    "            'value.fields-include' = 'EXCEPT_KEY'\n",
    "        )\n",
    "\"\"\"\n"
   ]
  },
  {
   "cell_type": "code",
   "execution_count": 4,
   "id": "2e3c0777-c6ff-43e6-b1e0-7bfb72977206",
   "metadata": {},
   "outputs": [],
   "source": [
    "sink_ddl = \"\"\"\n",
    "        CREATE TABLE sink_table(\n",
    "            name VARCHAR,\n",
    "            price INTEGER\n",
    "        ) WITH (\n",
    "          'connector' = 'kafka',\n",
    "          'topic' = 'products_sink_topic',\n",
    "          'properties.bootstrap.servers' = 'localhost:9092',\n",
    "          'format' = 'json'\n",
    "        )\n",
    "        \"\"\""
   ]
  },
  {
   "cell_type": "code",
   "execution_count": null,
   "id": "ba9e51e7-9c31-4ed8-8952-c54fe83d410b",
   "metadata": {},
   "outputs": [
    {
     "name": "stdout",
     "output_type": "stream",
     "text": [
      "OK\n",
      "OK\n"
     ]
    }
   ],
   "source": [
    "t_env.execute_sql(source_ddl).print()\n",
    "t_env.execute_sql(sink_ddl).print()\n",
    "# t_env.execute_sql('select * from user_behavior3').print()\n",
    "\n",
    "sink = t_env.sql_query(\"SELECT a FROM products\")\n",
    "sink.execute_insert(\"sink_table\").wait()"
   ]
  }
 ],
 "metadata": {
  "kernelspec": {
   "display_name": "Python 3 (ipykernel)",
   "language": "python",
   "name": "python3"
  },
  "language_info": {
   "codemirror_mode": {
    "name": "ipython",
    "version": 3
   },
   "file_extension": ".py",
   "mimetype": "text/x-python",
   "name": "python",
   "nbconvert_exporter": "python",
   "pygments_lexer": "ipython3",
   "version": "3.8.12"
  }
 },
 "nbformat": 4,
 "nbformat_minor": 5
}
