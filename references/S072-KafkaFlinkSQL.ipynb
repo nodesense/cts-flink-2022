{
 "cells": [
  {
   "cell_type": "code",
   "execution_count": 1,
   "id": "05a277bc-ac44-45a9-9184-ee748168d6aa",
   "metadata": {},
   "outputs": [],
   "source": [
    "from pyflink.datastream import StreamExecutionEnvironment, TimeCharacteristic\n",
    "from pyflink.table import StreamTableEnvironment, EnvironmentSettings\n",
    "\n",
    "from pyflink.datastream import StreamExecutionEnvironment\n",
    "from pyflink.table import StreamTableEnvironment, EnvironmentSettings"
   ]
  },
  {
   "cell_type": "code",
   "execution_count": 2,
   "id": "0ba777b9-3d48-407a-a1c6-4885910dbcb4",
   "metadata": {},
   "outputs": [],
   "source": [
    "\n",
    "# f_s_env = StreamExecutionEnvironment.get_execution_environment()\n",
    "# f_s_settings = EnvironmentSettings.new_instance().use_old_planner().in_streaming_mode().build()\n",
    "# f_s_t_env = StreamTableEnvironment.create(f_s_env, environment_settings=f_s_settings)\n",
    "\n"
   ]
  },
  {
   "cell_type": "code",
   "execution_count": 3,
   "id": "f0414757-feae-4025-b228-cd1d82fcaf6d",
   "metadata": {},
   "outputs": [
    {
     "name": "stderr",
     "output_type": "stream",
     "text": [
      "SLF4J: Class path contains multiple SLF4J bindings.\n",
      "SLF4J: Found binding in [jar:file:/opt/flink-1.15.0/lib/log4j-slf4j-impl-2.17.1.jar!/org/slf4j/impl/StaticLoggerBinder.class]\n",
      "SLF4J: Found binding in [jar:file:/opt/hadoop-2.7.7/share/hadoop/common/lib/slf4j-log4j12-1.7.10.jar!/org/slf4j/impl/StaticLoggerBinder.class]\n",
      "SLF4J: See http://www.slf4j.org/codes.html#multiple_bindings for an explanation.\n",
      "SLF4J: Actual binding is of type [org.apache.logging.slf4j.Log4jLoggerFactory]\n"
     ]
    },
    {
     "data": {
      "text/plain": [
       "<pyflink.common.configuration.Configuration at 0x7f6d2f4d4d00>"
      ]
     },
     "execution_count": 3,
     "metadata": {},
     "output_type": "execute_result"
    }
   ],
   "source": [
    "env = StreamExecutionEnvironment.get_execution_environment()\n",
    "env_settings = EnvironmentSettings.Builder().build()\n",
    "t_env = StreamTableEnvironment.create(stream_execution_environment=env, environment_settings=env_settings)\n",
    "# specify connector and format jars\n",
    "t_env.get_config().get_configuration().set_string(\"pipeline.jars\", \"file:///opt/flink-1.15.0/lib/flink-sql-connector-kafka-1.15.0.jar\")\n"
   ]
  },
  {
   "cell_type": "code",
   "execution_count": 4,
   "id": "f53303a0-3725-49f2-9592-2afeda2cb3d8",
   "metadata": {},
   "outputs": [],
   "source": [
    "source_ddl = \"\"\"\n",
    "        CREATE TABLE source_table(\n",
    "            tag VARCHAR,\n",
    "            `value` DOUBLE\n",
    "        ) WITH (\n",
    "          'connector' = 'kafka',\n",
    "          'topic' = 'test-json',\n",
    "          'properties.bootstrap.servers' = 'localhost:9092',\n",
    "          'properties.group.id' = 'test-json-group-3',\n",
    "          'scan.startup.mode' = 'latest-offset',\n",
    "          'format' = 'json'\n",
    "        )\n",
    "        \"\"\"\n",
    "\n",
    "sink_ddl = \"\"\"\n",
    "        CREATE TABLE sink_table(\n",
    "           tag VARCHAR,\n",
    "            `value` DOUBLE\n",
    "        ) WITH (\n",
    "          'connector' = 'kafka',\n",
    "          'topic' = 'test-json-sink',\n",
    "          'properties.bootstrap.servers' = 'localhost:9092',\n",
    "          'format' = 'json'\n",
    "        )\n",
    "        \"\"\"\n"
   ]
  },
  {
   "cell_type": "code",
   "execution_count": null,
   "id": "ea0e5d85-4aaa-439c-81f9-a7f31e50379c",
   "metadata": {},
   "outputs": [],
   "source": []
  },
  {
   "cell_type": "code",
   "execution_count": null,
   "id": "f3a5d0b7-9828-4846-9592-96319cc1b155",
   "metadata": {},
   "outputs": [
    {
     "name": "stdout",
     "output_type": "stream",
     "text": [
      "OK\n",
      "+----+--------------------------------+--------------------------------+\n",
      "| op |                            tag |                          value |\n",
      "+----+--------------------------------+--------------------------------+\n",
      "| +I |                        sensor2 |                           34.5 |\n",
      "| +I |                        sensor2 |                           34.3 |\n"
     ]
    }
   ],
   "source": [
    "\n",
    "t_env.execute_sql(source_ddl).print()\n",
    "t_env.execute_sql(\"select * from source_table\").print()\n",
    "t_env.execute_sql(sink_ddl)\n",
    "\n",
    "t_env.sql_query(\"SELECT a FROM source_table\") \\\n",
    "    .execute_insert(\"sink_table\").wait()\n"
   ]
  }
 ],
 "metadata": {
  "kernelspec": {
   "display_name": "Python 3 (ipykernel)",
   "language": "python",
   "name": "python3"
  },
  "language_info": {
   "codemirror_mode": {
    "name": "ipython",
    "version": 3
   },
   "file_extension": ".py",
   "mimetype": "text/x-python",
   "name": "python",
   "nbconvert_exporter": "python",
   "pygments_lexer": "ipython3",
   "version": "3.8.12"
  }
 },
 "nbformat": 4,
 "nbformat_minor": 5
}
