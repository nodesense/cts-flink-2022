{
 "cells": [
  {
   "cell_type": "code",
   "execution_count": 1,
   "id": "65f2ae2b-df19-4992-836c-e4800171d478",
   "metadata": {},
   "outputs": [
    {
     "name": "stderr",
     "output_type": "stream",
     "text": [
      "SLF4J: Class path contains multiple SLF4J bindings.\n",
      "SLF4J: Found binding in [jar:file:/opt/flink-1.15.0/lib/log4j-slf4j-impl-2.17.1.jar!/org/slf4j/impl/StaticLoggerBinder.class]\n",
      "SLF4J: Found binding in [jar:file:/opt/hadoop-2.7.7/share/hadoop/common/lib/slf4j-log4j12-1.7.10.jar!/org/slf4j/impl/StaticLoggerBinder.class]\n",
      "SLF4J: See http://www.slf4j.org/codes.html#multiple_bindings for an explanation.\n",
      "SLF4J: Actual binding is of type [org.apache.logging.slf4j.Log4jLoggerFactory]\n"
     ]
    }
   ],
   "source": [
    "from pyflink.table import *\n",
    "from pyflink.table.expressions import col\n",
    "\n",
    "# environment configuration\n",
    "t_env = TableEnvironment.create(\n",
    "        environment_settings=EnvironmentSettings.new_instance().in_batch_mode().build())\n",
    "\n",
    " \n",
    "#t_env.get_config().get_configuration().set_string(\"pipeline.jars\", \"file:///opt/flink-1.5.0/flink-json-1.15.0.jar;\")\n",
    "\n"
   ]
  },
  {
   "cell_type": "code",
   "execution_count": 2,
   "id": "0879c05d-d5ca-477b-8719-0d8b20c2e6e1",
   "metadata": {},
   "outputs": [
    {
     "data": {
      "text/plain": [
       "<pyflink.table.table_result.TableResult at 0x7f9db8ecc760>"
      ]
     },
     "execution_count": 2,
     "metadata": {},
     "output_type": "execute_result"
    }
   ],
   "source": [
    "\n",
    "# register Orders table and Result table sink in table environment\n",
    "\n",
    "t_env.execute_sql(\"\"\"\n",
    "        create table `Customers`(\n",
    "            CustID BIGINT,\n",
    "            CustomerName VARCHAR,\n",
    "            Country VARCHAR\n",
    "            ) with (\n",
    "            'connector' = 'filesystem',\n",
    "            'format' = 'json',\n",
    "            'path' = 'file:///home/krish/flink/data/customers.json'\n",
    "        )\"\"\")\n",
    "      \n",
    "\n"
   ]
  },
  {
   "cell_type": "code",
   "execution_count": 3,
   "id": "ae279ce0-55f0-4efe-b858-38e9de0fbda7",
   "metadata": {},
   "outputs": [
    {
     "name": "stdout",
     "output_type": "stream",
     "text": [
      "esult Trxs Schema\n",
      "(\n",
      "  `CustID` BIGINT,\n",
      "  `CustomerName` STRING,\n",
      "  `Country` STRING\n",
      ")\n",
      "converted add column \n",
      "    CustID CustomerName        Country\n",
      "0        1         ADAM        Germany\n",
      "1        2        BRUCE         Mexico\n",
      "2        3       WATSON         Mexico\n",
      "3        4        SMITH  united states\n",
      "4        5      JOHNSON         africa\n",
      "5        6     WILLIAMS         Canada\n",
      "6        7        JONES          india\n",
      "7        8        BROWN         Mexico\n",
      "8        9        DAVIS          india\n",
      "9       10       MILLER  united states\n",
      "10      11       WILSON          india\n",
      "11      12        MOORE         france\n",
      "12      13       TAYLOR        germany\n",
      "13      14     ANDERSON          japan\n",
      "+----------------------+--------------------------------+--------------------------------+\n",
      "|               CustID |                   CustomerName |                        Country |\n",
      "+----------------------+--------------------------------+--------------------------------+\n",
      "|                    1 |                           ADAM |                        Germany |\n",
      "|                    2 |                          BRUCE |                         Mexico |\n",
      "|                    3 |                         WATSON |                         Mexico |\n",
      "|                    4 |                          SMITH |                  united states |\n",
      "|                    5 |                        JOHNSON |                         africa |\n",
      "|                    6 |                       WILLIAMS |                         Canada |\n",
      "|                    7 |                          JONES |                          india |\n",
      "|                    8 |                          BROWN |                         Mexico |\n",
      "|                    9 |                          DAVIS |                          india |\n",
      "|                   10 |                         MILLER |                  united states |\n",
      "|                   11 |                         WILSON |                          india |\n",
      "|                   12 |                          MOORE |                         france |\n",
      "|                   13 |                         TAYLOR |                        germany |\n",
      "|                   14 |                       ANDERSON |                          japan |\n",
      "+----------------------+--------------------------------+--------------------------------+\n",
      "14 rows in set\n"
     ]
    }
   ],
   "source": [
    "\n",
    "customers = t_env.from_path(\"Customers\")\n",
    "\n",
    "print('\\result Trxs Schema')\n",
    "customers.print_schema()\n",
    "\n",
    "print (\"converted add column \")\n",
    "print (customers.to_pandas())\n",
    "\n",
    "t_env.execute_sql(\"select * from Customers\").print()\n"
   ]
  },
  {
   "cell_type": "code",
   "execution_count": 4,
   "id": "b2d44f79-86ae-44c9-bb0d-133e3cf789e9",
   "metadata": {},
   "outputs": [
    {
     "name": "stdout",
     "output_type": "stream",
     "text": [
      "1> +I[1, ADAM, Germany]\n",
      "1> +I[2, BRUCE, Mexico]\n",
      "1> +I[3, WATSON, Mexico]\n",
      "1> +I[4, SMITH, united states]\n",
      "1> +I[5, JOHNSON, africa]\n",
      "1> +I[6, WILLIAMS, Canada]\n",
      "1> +I[7, JONES, india]\n",
      "1> +I[8, BROWN, Mexico]\n",
      "1> +I[9, DAVIS, india]\n",
      "1> +I[10, MILLER, united states]\n",
      "1> +I[11, WILSON, india]\n",
      "1> +I[12, MOORE, france]\n",
      "1> +I[13, TAYLOR, germany]\n",
      "1> +I[14, ANDERSON, japan]\n"
     ]
    }
   ],
   "source": [
    "\n",
    "sink_ddl_parquet=f\"\"\"\n",
    "    create table `OutSink`(\n",
    "       CustID BIGINT,\n",
    "        CustomerName VARCHAR,\n",
    "        Country VARCHAR        \n",
    "    ) with (\n",
    "        'connector' = 'print'\n",
    "    )\n",
    "    \"\"\"\n",
    "\n",
    "t_env.execute_sql(sink_ddl_parquet)\n",
    "\n",
    "\n",
    "customers.execute_insert(\"OutSink\").wait()"
   ]
  }
 ],
 "metadata": {
  "kernelspec": {
   "display_name": "Python 3 (ipykernel)",
   "language": "python",
   "name": "python3"
  },
  "language_info": {
   "codemirror_mode": {
    "name": "ipython",
    "version": 3
   },
   "file_extension": ".py",
   "mimetype": "text/x-python",
   "name": "python",
   "nbconvert_exporter": "python",
   "pygments_lexer": "ipython3",
   "version": "3.8.12"
  }
 },
 "nbformat": 4,
 "nbformat_minor": 5
}
