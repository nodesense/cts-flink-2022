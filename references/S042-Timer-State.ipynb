{
 "cells": [
  {
   "cell_type": "code",
   "execution_count": null,
   "id": "3d20d82e-55b5-420f-9bb6-c51ef705a82c",
   "metadata": {},
   "outputs": [],
   "source": [
    "import datetime\n",
    "\n",
    "from pyflink.common import Row, WatermarkStrategy\n",
    "from pyflink.common.typeinfo import Types\n",
    "from pyflink.common.watermark_strategy import TimestampAssigner\n",
    "from pyflink.datastream import StreamExecutionEnvironment\n",
    "from pyflink.datastream.functions import KeyedProcessFunction, RuntimeContext\n",
    "from pyflink.datastream.state import ValueStateDescriptor\n",
    "from pyflink.table import StreamTableEnvironment\n"
   ]
  },
  {
   "cell_type": "code",
   "execution_count": null,
   "id": "67e7a862-6803-4a04-b205-f55477aa0f27",
   "metadata": {},
   "outputs": [],
   "source": [
    "\n",
    "class CountWithTimeoutFunction(KeyedProcessFunction):\n",
    "\n",
    "    def __init__(self):\n",
    "        self.state = None\n",
    "\n",
    "    def open(self, runtime_context: RuntimeContext):\n",
    "        self.state = runtime_context.get_state(ValueStateDescriptor(\n",
    "            \"my_state\", Types.ROW([Types.STRING(), Types.LONG(), Types.LONG()])))\n",
    "\n",
    "    def process_element(self, value, ctx: 'KeyedProcessFunction.Context'):\n",
    "        # retrieve the current count\n",
    "        current = self.state.value()\n",
    "        if current is None:\n",
    "            current = Row(value.f1, 0, 0)\n",
    "\n",
    "        # update the state's count\n",
    "        current[1] += 1\n",
    "\n",
    "        # set the state's timestamp to the record's assigned event time timestamp\n",
    "        current[2] = ctx.timestamp()\n",
    "\n",
    "        # write the state back\n",
    "        self.state.update(current)\n",
    "\n",
    "        # schedule the next timer 60 seconds from the current event time\n",
    "        ctx.timer_service().register_event_time_timer(current[2] + 60000)\n",
    "\n",
    "    def on_timer(self, timestamp: int, ctx: 'KeyedProcessFunction.OnTimerContext'):\n",
    "        # get the state for the key that scheduled the timer\n",
    "        result = self.state.value()\n",
    "\n",
    "        # check if this is an outdated timer or the latest timer\n",
    "        if timestamp == result[2] + 60000:\n",
    "            # emit the state on timeout\n",
    "            yield result[0], result[1]\n",
    "\n"
   ]
  },
  {
   "cell_type": "code",
   "execution_count": null,
   "id": "de83f6e8-a3fa-4431-8acf-42baf2e3682d",
   "metadata": {},
   "outputs": [],
   "source": [
    "\n",
    "\n",
    "class MyTimestampAssigner(TimestampAssigner):\n",
    "\n",
    "    def __init__(self):\n",
    "        self.epoch = datetime.datetime.utcfromtimestamp(0)\n",
    "\n",
    "    def extract_timestamp(self, value, record_timestamp) -> int:\n",
    "        return int((value[0] - self.epoch).total_seconds() * 1000)\n"
   ]
  },
  {
   "cell_type": "code",
   "execution_count": null,
   "id": "b449d3a3-32c6-4405-aeef-2dd3c291683b",
   "metadata": {},
   "outputs": [],
   "source": [
    "env = StreamExecutionEnvironment.get_execution_environment()\n",
    "t_env = StreamTableEnvironment.create(stream_execution_environment=env)\n",
    "\n",
    "t_env.execute_sql(\"\"\"\n",
    "        CREATE TABLE my_source (\n",
    "          a TIMESTAMP(3),\n",
    "          b VARCHAR,\n",
    "          c VARCHAR\n",
    "        ) WITH (\n",
    "          'connector' = 'datagen',\n",
    "          'rows-per-second' = '5'\n",
    "        )\n",
    "    \"\"\")\n",
    "\n",
    "stream = t_env.to_append_stream(\n",
    "    t_env.from_path('my_source'),\n",
    "    Types.ROW([Types.SQL_TIMESTAMP(), Types.STRING(), Types.STRING()]))\n",
    "watermarked_stream = stream.assign_timestamps_and_watermarks(\n",
    "    WatermarkStrategy.for_monotonous_timestamps()\n",
    "                         .with_timestamp_assigner(MyTimestampAssigner()))\n",
    "\n",
    "# apply the process function onto a keyed stream\n",
    "watermarked_stream.key_by(lambda value: value[1])\\\n",
    "    .process(CountWithTimeoutFunction()) \\\n",
    "    .print()\n",
    "\n",
    "env.execute()"
   ]
  },
  {
   "cell_type": "code",
   "execution_count": null,
   "id": "1eb75991-ec32-4752-b373-725fcf5c70c7",
   "metadata": {},
   "outputs": [],
   "source": []
  }
 ],
 "metadata": {
  "kernelspec": {
   "display_name": "Python 3 (ipykernel)",
   "language": "python",
   "name": "python3"
  },
  "language_info": {
   "codemirror_mode": {
    "name": "ipython",
    "version": 3
   },
   "file_extension": ".py",
   "mimetype": "text/x-python",
   "name": "python",
   "nbconvert_exporter": "python",
   "pygments_lexer": "ipython3",
   "version": "3.8.12"
  }
 },
 "nbformat": 4,
 "nbformat_minor": 5
}
